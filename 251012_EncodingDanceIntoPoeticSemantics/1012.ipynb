{
 "cells": [
  {
   "cell_type": "code",
   "execution_count": 1,
   "id": "0e045c98-09ea-4c96-98ef-e1d0bd63473c",
   "metadata": {},
   "outputs": [],
   "source": [
    "import os\n",
    "import re\n",
    "import glob\n",
    "import random\n",
    "import numpy as np\n",
    "import pandas as pd\n",
    "import ast\n",
    "from tqdm import tqdm\n",
    "import torch\n",
    "import torch.nn as nn\n",
    "import torch.nn.functional as F\n",
    "from torch.utils.data import Dataset, DataLoader\n",
    "from sentence_transformers import SentenceTransformer\n",
    "from sklearn.decomposition import PCA\n",
    "from sklearn.cluster import KMeans"
   ]
  },
  {
   "cell_type": "code",
   "execution_count": 2,
   "id": "7ac085b5-d200-4edf-9037-ae0261f6a1e2",
   "metadata": {},
   "outputs": [],
   "source": [
    "# Optional: faiss for fast retrieval\n",
    "try:\n",
    "    import faiss\n",
    "    _HAS_FAISS = True\n",
    "except Exception:\n",
    "    _HAS_FAISS = False\n",
    "    print(\"faiss not installed - retrieval will use sklearn NearestNeighbors fallback.\")"
   ]
  },
  {
   "cell_type": "code",
   "execution_count": 3,
   "id": "0fd8e1c9-446b-4731-ae01-7989139cc125",
   "metadata": {},
   "outputs": [],
   "source": [
    "# ----------------------------\n",
    "# Config / Hyperparams\n",
    "# ----------------------------\n",
    "DEVICE = torch.device(\"cuda\" if torch.cuda.is_available() else \"cpu\")\n",
    "SEED = 42\n",
    "random.seed(SEED); np.random.seed(SEED); torch.manual_seed(SEED)\n",
    "\n",
    "WINDOW = 32        # frames per sample\n",
    "STEP = 16          # sliding step\n",
    "INPUT_DIM = 33*3   # per frame flattened dim (if your CSV format differs, see loader)\n",
    "LATENT_DIM = 256   #64\n",
    "HIDDEN = 256\n",
    "BATCH_SIZE = 32\n",
    "VAE_EPOCHS = 40\n",
    "PROJ_EPOCHS = 30\n",
    "LR = 1e-3\n",
    "\n",
    "POEM_MODEL_NAME = \"all-MiniLM-L6-v2\"  # sentence-transformers for poem embeddings"
   ]
  },
  {
   "cell_type": "code",
   "execution_count": 4,
   "id": "0d7f94b1-2a87-490c-babe-a907ab08c6fe",
   "metadata": {},
   "outputs": [],
   "source": [
    "# ----------------------------\n",
    "# Utilities: CSV loader (supports 2 formats)\n",
    "# Format A: each frame as 33 rows (joint per row) repeated T times (rows = T*33)\n",
    "# Format B: each frame as a row with 99 columns (x0,y0,z0,...)\n",
    "# ----------------------------\n",
    "def load_csv_as_frames(path):\n",
    "    \"\"\"\n",
    "    Load CSV where each row = one frame,\n",
    "    and each pN cell contains a tuple like ('x','y','z').\n",
    "    Output shape: (T, 33, 3)\n",
    "    \"\"\"\n",
    "    # 自動偵測分隔符\n",
    "    with open(path, 'r', encoding='utf-8') as f:\n",
    "        sample = f.read(1024)\n",
    "        f.seek(0)\n",
    "        dialect = csv.Sniffer().sniff(sample, delimiters=[',','\\t',';'])\n",
    "    df = pd.read_csv(path, sep=dialect.delimiter, engine='python')\n",
    "\n",
    "    # 找出以 p 開頭的欄位\n",
    "    joint_cols = [c for c in df.columns if c.startswith(\"p\")]\n",
    "    if len(joint_cols) == 0:\n",
    "        raise ValueError(f\"No joint columns found in {path}. Found columns: {df.columns.tolist()}\")\n",
    "\n",
    "    frames = []\n",
    "    for _, row in df.iterrows():\n",
    "        joints = []\n",
    "        for c in joint_cols:\n",
    "            cell = str(row[c]).strip()\n",
    "            if cell.startswith(\"(\") and cell.endswith(\")\"):\n",
    "                try:\n",
    "                    tup = ast.literal_eval(cell)\n",
    "                    joints.append([float(tup[0]), float(tup[1]), float(tup[2])])\n",
    "                except Exception:\n",
    "                    joints.append([0.0, 0.0, 0.0])\n",
    "            else:\n",
    "                joints.append([0.0, 0.0, 0.0])\n",
    "        frames.append(joints)\n",
    "\n",
    "    frames = np.array(frames, dtype=np.float32)\n",
    "\n",
    "    # reshape 如果必要\n",
    "    if frames.ndim == 2 and frames.shape[1] % 3 == 0:\n",
    "        frames = frames.reshape(frames.shape[0], -1, 3)\n",
    "\n",
    "    if frames.ndim != 3 or frames.shape[2] != 3:\n",
    "        raise ValueError(f\"Unexpected frame shape {frames.shape} in {path}\")\n",
    "\n",
    "    print(f\"Loaded {path} → shape {frames.shape}\")\n",
    "    return frames"
   ]
  },
  {
   "cell_type": "code",
   "execution_count": 5,
   "id": "36f85d36-1909-4ce2-ac22-bc42092bc11d",
   "metadata": {},
   "outputs": [],
   "source": [
    "# ----------------------------\n",
    "# Windowing & feature preprocessing\n",
    "# ----------------------------\n",
    "def create_windows_from_files(csv_paths, window=WINDOW, step=STEP, do_velocity=True, center_on_hip=True):\n",
    "    \"\"\"\n",
    "    Returns windows np.array shape (N_windows, window, 99)\n",
    "    \"\"\"\n",
    "    windows = []\n",
    "    for p in csv_paths:\n",
    "        frames = load_csv_as_frames(p)  # (T,33,3)\n",
    "        T = frames.shape[0]\n",
    "        # center on hip (joint 0 assumed hip). if not, adjust mapping.\n",
    "        if center_on_hip:\n",
    "            hip = frames[:, 0:1, :]  # (T,1,3)\n",
    "            frames = frames - hip  # broadcast\n",
    "        # flatten per frame\n",
    "        flat = frames.reshape(T, -1)  # (T,99)\n",
    "        # optional velocity feature\n",
    "        if do_velocity:\n",
    "            vel = np.zeros_like(flat)\n",
    "            vel[1:] = flat[1:] - flat[:-1]\n",
    "            feat = np.concatenate([flat, vel], axis=1)  # (T,198)\n",
    "        else:\n",
    "            feat = flat\n",
    "        # normalize per-file\n",
    "        mu = feat.mean(axis=0, keepdims=True)\n",
    "        sd = feat.std(axis=0, keepdims=True) + 1e-8\n",
    "        feat = (feat - mu) / sd\n",
    "        # sliding windows\n",
    "        for i in range(0, T - window + 1, step):\n",
    "            w = feat[i:i+window]  # (window, dim)\n",
    "            windows.append(w.astype(np.float32))\n",
    "    if len(windows) == 0:\n",
    "        return np.zeros((0, window, feat.shape[1]), dtype=np.float32)\n",
    "    return np.stack(windows)  # (N, window, dim)\n",
    "\n",
    "class SkeletonWindowDataset(Dataset):\n",
    "    def __init__(self, windows):\n",
    "        # windows: numpy array (N, window, dim)\n",
    "        self.windows = windows\n",
    "    def __len__(self): return len(self.windows)\n",
    "    def __getitem__(self, idx):\n",
    "        return self.windows[idx]"
   ]
  },
  {
   "cell_type": "code",
   "execution_count": 6,
   "id": "1e675f4b-be58-421d-bd2d-edaa3eceeb64",
   "metadata": {},
   "outputs": [],
   "source": [
    "# ----------------------------\n",
    "# VAE seq model (simple LSTM-based)\n",
    "# ----------------------------\n",
    "class SeqEncoder(nn.Module):\n",
    "    def __init__(self, input_dim, hidden=HIDDEN, latent=LATENT_DIM):\n",
    "        super().__init__()\n",
    "        self.lstm = nn.LSTM(input_dim, hidden, batch_first=True)\n",
    "        self.fc_mu = nn.Linear(hidden, latent)\n",
    "        self.fc_logvar = nn.Linear(hidden, latent)\n",
    "    def forward(self, x):\n",
    "        # x: (B, T, input_dim)\n",
    "        _, (h, _) = self.lstm(x)\n",
    "        h = h.squeeze(0)\n",
    "        mu = self.fc_mu(h)\n",
    "        logvar = self.fc_logvar(h)\n",
    "        return mu, logvar\n",
    "\n",
    "class SeqDecoder(nn.Module):\n",
    "    def __init__(self, latent=LATENT_DIM, hidden=HIDDEN, out_dim=None, seq_len=WINDOW):\n",
    "        super().__init__()\n",
    "        self.fc = nn.Linear(latent, hidden)\n",
    "        self.lstm = nn.LSTM(hidden, hidden, batch_first=True)\n",
    "        self.out = nn.Linear(hidden, out_dim)\n",
    "        self.seq_len = seq_len\n",
    "    def forward(self, z):\n",
    "        # z: (B, latent)\n",
    "        h0 = torch.tanh(self.fc(z)).unsqueeze(0)  # (1,B,hidden)\n",
    "        c0 = torch.zeros_like(h0)\n",
    "        # feed zeros\n",
    "        B = z.size(0)\n",
    "        inp = torch.zeros(B, self.seq_len, h0.size(-1), device=z.device)\n",
    "        out, _ = self.lstm(inp, (h0, c0))\n",
    "        return self.out(out)  # (B, T, out_dim)\n",
    "\n",
    "class VAESeq(nn.Module):\n",
    "    def __init__(self, input_dim, hidden=HIDDEN, latent=LATENT_DIM, seq_len=WINDOW):\n",
    "        super().__init__()\n",
    "        self.enc = SeqEncoder(input_dim, hidden, latent)\n",
    "        self.dec = SeqDecoder(latent, hidden, input_dim, seq_len)\n",
    "    def reparam(self, mu, logvar):\n",
    "        std = (0.5 * logvar).exp()\n",
    "        eps = torch.randn_like(std)\n",
    "        return mu + eps * std\n",
    "    def forward(self, x):\n",
    "        mu, logvar = self.enc(x)\n",
    "        z = self.reparam(mu, logvar)\n",
    "        recon = self.dec(z)\n",
    "        return recon, mu, logvar, z"
   ]
  },
  {
   "cell_type": "code",
   "execution_count": 7,
   "id": "c3d6cd8a-9b85-4ed2-ad83-dc3d03bed3c4",
   "metadata": {},
   "outputs": [],
   "source": [
    "# ----------------------------\n",
    "# Training utilities\n",
    "# ----------------------------\n",
    "def train_vae(model, dataloader, epochs=VAE_EPOCHS, lr=LR, beta=1.0):\n",
    "    model.to(DEVICE)\n",
    "    opt = torch.optim.Adam(model.parameters(), lr=lr)\n",
    "    for epoch in range(epochs):\n",
    "        model.train()\n",
    "        total_loss = 0.0\n",
    "        total_recon = 0.0\n",
    "        total_kl = 0.0\n",
    "        for batch in tqdm(dataloader, desc=f\"VAE epoch {epoch+1}/{epochs}\"):\n",
    "            x = batch.to(DEVICE)  # (B, T, dim)\n",
    "            recon, mu, logvar, z = model(x)\n",
    "            recon_loss = F.mse_loss(recon, x)\n",
    "            kl = -0.5 * torch.mean(1 + logvar - mu.pow(2) - logvar.exp())\n",
    "            loss = recon_loss + beta * kl\n",
    "            opt.zero_grad(); loss.backward(); opt.step()\n",
    "            total_loss += loss.item()\n",
    "            total_recon += recon_loss.item()\n",
    "            total_kl += kl.item()\n",
    "        print(f\"Epoch {epoch+1}: loss={total_loss/len(dataloader):.6f}, recon={total_recon/len(dataloader):.6f}, kl={total_kl/len(dataloader):.6f}\")\n",
    "    return model\n",
    "\n",
    "def encode_all_z(model, dataloader):\n",
    "    model.to(DEVICE)\n",
    "    model.eval()\n",
    "    zs = []\n",
    "    with torch.no_grad():\n",
    "        for batch in tqdm(dataloader, desc=\"Encoding all windows to z\"):\n",
    "            x = batch.to(DEVICE)\n",
    "            mu, logvar = model.enc(x)\n",
    "            zs.append(mu.cpu().numpy())\n",
    "    return np.concatenate(zs, axis=0)  # (N, latent)"
   ]
  },
  {
   "cell_type": "code",
   "execution_count": 8,
   "id": "86296582-7124-4fc9-8da1-9664225a31c0",
   "metadata": {},
   "outputs": [],
   "source": [
    "# ----------------------------\n",
    "# Poem embeddings (sentence-transformers)\n",
    "# ----------------------------\n",
    "def build_poem_corpus_embeddings(poem_list, model_name=POEM_MODEL_NAME):\n",
    "    sbert = SentenceTransformer(model_name)\n",
    "    emb = sbert.encode(poem_list, convert_to_numpy=True, show_progress_bar=True)\n",
    "    # normalize\n",
    "    norms = np.linalg.norm(emb, axis=1, keepdims=True) + 1e-10\n",
    "    emb = emb / norms\n",
    "    return emb, sbert"
   ]
  },
  {
   "cell_type": "code",
   "execution_count": 9,
   "id": "eba5675a-5c13-4713-9f63-c4283b8c9dda",
   "metadata": {},
   "outputs": [],
   "source": [
    "# ----------------------------\n",
    "# Projection heads and contrastive training\n",
    "# ----------------------------\n",
    "class ProjectionHead(nn.Module):\n",
    "    def __init__(self, in_dim, out_dim=64):\n",
    "        super().__init__()\n",
    "        self.net = nn.Sequential(\n",
    "            nn.Linear(in_dim, 128),\n",
    "            nn.ReLU(),\n",
    "            nn.Linear(128, out_dim)\n",
    "        )\n",
    "    def forward(self, x):\n",
    "        return F.normalize(self.net(x), dim=-1)\n",
    "\n",
    "def contrastive_train(proj_skel, proj_poem, z_loader, poem_emb, poem_list, epochs=PROJ_EPOCHS, lr=1e-3, pseudo_pairs=None):\n",
    "    # z_loader yields (B, latent)\n",
    "    proj_skel.to(DEVICE); proj_poem.to(DEVICE)\n",
    "    opt = torch.optim.Adam(list(proj_skel.parameters()) + list(proj_poem.parameters()), lr=lr)\n",
    "    # poem_emb: (M, d)\n",
    "    poem_emb_t = torch.tensor(poem_emb, dtype=torch.float32).to(DEVICE)\n",
    "    M = poem_emb.shape[0]\n",
    "    temperature = 0.07\n",
    "    for epoch in range(epochs):\n",
    "        proj_skel.train(); proj_poem.train()\n",
    "        total_loss = 0.0\n",
    "        for batch_idx, z in enumerate(tqdm(z_loader, desc=f\"Contrastive epoch {epoch+1}/{epochs}\")):\n",
    "            z = z.to(DEVICE)\n",
    "            # sample same-size poem batch\n",
    "            B = z.size(0)\n",
    "            # Strategy: if pseudo_pairs provided (list of poem indices per z), use them; else random sample\n",
    "            if pseudo_pairs is not None:\n",
    "                # pseudo_pairs is dict mapping sample idx of the dataset to poem idx\n",
    "                # Here, simple approach: we sample random poems as \"positives\" for each z based on pseudo_pairs; if not found choose random.\n",
    "                pos_idxs = []\n",
    "                for i in range(batch_idx*B, batch_idx*B + B):\n",
    "                    pos = pseudo_pairs.get(i, random.randrange(M))\n",
    "                    pos_idxs.append(pos)\n",
    "                pos_tensor = poem_emb_t[pos_idxs]  # (B, d)\n",
    "            else:\n",
    "                # random positive selection (weak) - we treat any poem as candidate positive to force distributional alignment\n",
    "                rand_idx = np.random.choice(M, size=B, replace=False if M>=B else True)\n",
    "                pos_tensor = poem_emb_t[rand_idx]\n",
    "            # project\n",
    "            z_proj = proj_skel(z)  # (B, out)\n",
    "            e_proj = proj_poem(pos_tensor)  # (B, out)\n",
    "            # compute similarity matrix with negatives (z_proj vs full poem_emb projected)\n",
    "            # project full poem_emb too\n",
    "            poem_proj_all = proj_poem(poem_emb_t)  # (M, out)\n",
    "            # logits: z_proj @ poem_proj_all.T\n",
    "            logits = z_proj @ poem_proj_all.T  # (B, M)\n",
    "            # create labels: each row's positive index is pos_idxs\n",
    "            if pseudo_pairs is not None:\n",
    "                labels = torch.tensor(pos_idxs, dtype=torch.long, device=DEVICE)\n",
    "            else:\n",
    "                # we used rand_idx - covert to tensor\n",
    "                labels = torch.tensor(rand_idx, dtype=torch.long, device=DEVICE)\n",
    "            loss = F.cross_entropy(logits / temperature, labels)\n",
    "            opt.zero_grad(); loss.backward(); opt.step()\n",
    "            total_loss += loss.item()\n",
    "        print(f\"Epoch {epoch+1}: contrastive_loss={total_loss/(batch_idx+1):.6f}\")\n",
    "    return proj_skel, proj_poem"
   ]
  },
  {
   "cell_type": "code",
   "execution_count": 10,
   "id": "50ca5fbb-bd31-4c37-a774-fb2d55fe7d36",
   "metadata": {},
   "outputs": [],
   "source": [
    "# ----------------------------\n",
    "# Retrieval (FAISS or fallback)\n",
    "# ----------------------------\n",
    "def build_faiss_index(poem_emb):\n",
    "    # poem_emb normalized\n",
    "    d = poem_emb.shape[1]\n",
    "    if _HAS_FAISS:\n",
    "        index = faiss.IndexFlatIP(d)\n",
    "        index.add(poem_emb.astype('float32'))\n",
    "        return index\n",
    "    else:\n",
    "        # fallback to simple numpy search\n",
    "        return None\n",
    "\n",
    "def retrieve_poems_by_vector(vectors, poem_emb, topk=5, index=None):\n",
    "    # vectors: (B, d) numpy normalized\n",
    "    if index is not None and _HAS_FAISS:\n",
    "        faiss.normalize_L2(vectors)\n",
    "        D, I = index.search(vectors.astype('float32'), topk)\n",
    "        return I, D\n",
    "    else:\n",
    "        # brute-force cosine similarity\n",
    "        poem = poem_emb  # (M,d)\n",
    "        sims = vectors @ poem.T\n",
    "        idxs = np.argsort(-sims, axis=1)[:, :topk]\n",
    "        vals = np.take_along_axis(sims, idxs, axis=1)\n",
    "        return idxs, vals"
   ]
  },
  {
   "cell_type": "code",
   "execution_count": 11,
   "id": "5b2f7380-faf5-4ea5-834e-48d01ee8cefd",
   "metadata": {},
   "outputs": [],
   "source": [
    "# ----------------------------\n",
    "# Utility: simple heuristic pseudo-pair (optional warm start)\n",
    "# A few rules: hand high -> candidate poems indices for \"hand\" poems, rotation -> rotation poems, etc.\n",
    "# This creates a mapping from window index -> poem index (pseudo label)\n",
    "# ----------------------------\n",
    "def simple_heuristic_pseudo_pairs(windows, poem_list):\n",
    "    \"\"\"\n",
    "    windows: numpy (N, window, dim) - here dim likely 198 if velocity used\n",
    "    poem_list: list of poem strings - must contain keywords we match\n",
    "    returns: dict mapping sample_idx -> poem_idx\n",
    "    \"\"\"\n",
    "    mapping = {}\n",
    "    N = windows.shape[0]\n",
    "    lower = [p for p in poem_list if '手' in p or '手舞' in p]\n",
    "    foot = [p for p in poem_list if '足' in p or '踏' in p]\n",
    "    spin = [p for p in poem_list if '風' in p or '旋' in p or '行' in p]\n",
    "    calm = [p for p in poem_list if '雲' in p or '細' in p or '悠' in p]\n",
    "    idx_map = { 'hand': [poem_list.index(x) for x in lower] if lower else [],\n",
    "                'foot': [poem_list.index(x) for x in foot] if foot else [],\n",
    "                'spin': [poem_list.index(x) for x in spin] if spin else [],\n",
    "                'calm': [poem_list.index(x) for x in calm] if calm else [] }\n",
    "    for i in range(N):\n",
    "        w = windows[i]  # (window, dim)\n",
    "        # approximate: check mean height of hand joints -> hand likely high\n",
    "        # we assumed original flat was [x0,y0,z0,...], velocity appended -> dim maybe 198, so find y indices\n",
    "        dim = w.shape[1]\n",
    "        # find y positions indices heuristically: y occur every 3rd starting at 1: idx 1,4,7...\n",
    "        y_idxs = list(range(1, min(99, dim), 3))\n",
    "        # compute mean y of typical hand joint idx in flattened frame (hand indices might vary, we use approximate)\n",
    "        # safe heuristic: use top 33 joints' y mean\n",
    "        mean_y = w[:, y_idxs].mean()\n",
    "        # variance -> large movement\n",
    "        var = w.var()\n",
    "        # pick mapping\n",
    "        if mean_y > 0.2:\n",
    "            pool = idx_map['hand']\n",
    "        elif var > 1.0:\n",
    "            pool = idx_map['spin'] if idx_map['spin'] else idx_map['foot']\n",
    "        else:\n",
    "            pool = idx_map['calm']\n",
    "        if pool:\n",
    "            mapping[i] = random.choice(pool)\n",
    "    return mapping"
   ]
  },
  {
   "cell_type": "code",
   "execution_count": 12,
   "id": "a89807ae-3d90-49a4-88a1-269293050f69",
   "metadata": {},
   "outputs": [],
   "source": [
    "# ----------------------------\n",
    "# Compose chapter from retrieved poem indices\n",
    "# ----------------------------\n",
    "def compose_chapters_from_indices(idx_seq, poem_list, per_chapter=4, repeat_rule=True):\n",
    "    # idx_seq: list or array of poem indices (N)\n",
    "    chapters = []\n",
    "    for i in range(0, len(idx_seq), per_chapter):\n",
    "        block = idx_seq[i:i+per_chapter].tolist()\n",
    "        # if block shorter than per_chapter, pad by repeating last\n",
    "        while len(block) < per_chapter:\n",
    "            block.append(block[-1] if len(block)>0 else 0)\n",
    "        lines = [poem_list[idx] for idx in block]\n",
    "        # apply repeat rule: if consecutive identical -> duplicate line to form 重章\n",
    "        if repeat_rule:\n",
    "            lines2 = []\n",
    "            for j in range(len(lines)):\n",
    "                lines2.append(lines[j])\n",
    "                if j>0 and lines[j]==lines[j-1]:\n",
    "                    lines2.append(lines[j])  # repeat\n",
    "            lines = lines2\n",
    "        chapters.append(lines)\n",
    "    return chapters"
   ]
  },
  {
   "cell_type": "code",
   "execution_count": 13,
   "id": "a9072e06-6cca-4845-bd41-f824d53a69d5",
   "metadata": {},
   "outputs": [],
   "source": [
    "# ----------------------------\n",
    "# Main flow as functions\n",
    "# ----------------------------\n",
    "def run_pipeline(csv_folder, poem_list, out_dir=\"outputs\", use_pseudo_pairs=True):\n",
    "    os.makedirs(out_dir, exist_ok=True)\n",
    "    csv_paths = glob.glob(os.path.join(csv_folder, \"*.csv\"))\n",
    "    print(f\"Found {len(csv_paths)} csv files.\")\n",
    "    # Step 1: windows\n",
    "    windows = create_windows_from_files(csv_paths, window=WINDOW, step=STEP)\n",
    "    print(\"Total windows:\", windows.shape)\n",
    "    # Save small sample\n",
    "    np.save(os.path.join(out_dir, \"windows.npy\"), windows)\n",
    "    # Step 2: optionally reduce dim with PCA (helps training speed)\n",
    "    N, W, D = windows.shape\n",
    "    windows_reshaped = windows.reshape(N*W, D)\n",
    "    pca = PCA(n_components=min(64, D))\n",
    "    windows_pca = pca.fit_transform(windows_reshaped)\n",
    "    windows_pca = windows_pca.reshape(N, W, -1)\n",
    "    input_dim = windows_pca.shape[-1]\n",
    "    print(\"PCA reduced dim:\", input_dim)\n",
    "    # dataloader\n",
    "    ds = SkeletonWindowDataset(windows_pca)\n",
    "    dl = DataLoader(ds, batch_size=BATCH_SIZE, shuffle=True, drop_last=True)\n",
    "    # Step 3: train VAE\n",
    "    vae = VAESeq(input_dim=input_dim, hidden=HIDDEN, latent=LATENT_DIM, seq_len=WINDOW)\n",
    "    print(\"Training VAE...\")\n",
    "    train_vae(vae, dl, epochs=VAE_EPOCHS, lr=LR, beta=1.0)\n",
    "    # encode all windows to z\n",
    "    full_dl = DataLoader(ds, batch_size=BATCH_SIZE, shuffle=False)\n",
    "    z_all = encode_all_z(vae, full_dl)  # (N, latent)\n",
    "    np.save(os.path.join(out_dir, \"z_all.npy\"), z_all)\n",
    "    # Step 4: poem embeddings\n",
    "    poem_emb, sbert = build_poem_corpus_embeddings(poem_list)\n",
    "    np.save(os.path.join(out_dir, \"poem_emb.npy\"), poem_emb)\n",
    "    # Step 5: projection heads + contrastive\n",
    "    proj_skel = ProjectionHead(LATENT_DIM, out_dim=64)\n",
    "    proj_poem = ProjectionHead(poem_emb.shape[1], out_dim=64)\n",
    "    # create dataloader for z\n",
    "    z_ds = torch.tensor(z_all, dtype=torch.float32)\n",
    "    z_dl_train = DataLoader(z_ds, batch_size=BATCH_SIZE, shuffle=True)\n",
    "    pseudo_pairs = None\n",
    "    if use_pseudo_pairs:\n",
    "        print(\"Creating heuristic pseudo pairs...\")\n",
    "        pseudo_pairs = simple_heuristic_pseudo_pairs(windows, poem_list)\n",
    "        print(\"Pseudo pairs count:\", len(pseudo_pairs))\n",
    "    print(\"Training projection heads (contrastive)...\")\n",
    "    proj_skel, proj_poem = contrastive_train(proj_skel, proj_poem, z_dl_train, poem_emb, poem_list, epochs=PROJ_EPOCHS, lr=1e-3, pseudo_pairs=pseudo_pairs)\n",
    "    # Step 6: build index for retrieval\n",
    "    # compute poem projection for indexing\n",
    "    poem_emb_t = torch.tensor(poem_emb, dtype=torch.float32)\n",
    "    with torch.no_grad():\n",
    "        poem_proj = proj_poem(poem_emb_t.to(DEVICE)).cpu().numpy().astype('float32')\n",
    "    # normalize\n",
    "    poem_proj = poem_proj / (np.linalg.norm(poem_proj, axis=1, keepdims=True) + 1e-10)\n",
    "    index = build_faiss_index(poem_proj)\n",
    "    # Step 7: example retrieval on dataset z_all\n",
    "    with torch.no_grad():\n",
    "        z_t = torch.tensor(z_all, dtype=torch.float32).to(DEVICE)\n",
    "        z_proj_all = proj_skel(z_t).cpu().numpy().astype('float32')\n",
    "    # normalize\n",
    "    z_proj_all = z_proj_all / (np.linalg.norm(z_proj_all, axis=1, keepdims=True) + 1e-10)\n",
    "    idxs, vals = retrieve_poems_by_vector(z_proj_all, poem_proj, topk=3, index=index)\n",
    "    # pick first poem choice per window\n",
    "    chosen = idxs[:,0]\n",
    "    chapters = compose_chapters_from_indices(chosen, poem_list, per_chapter=4, repeat_rule=True)\n",
    "    # save results\n",
    "    out_txt = os.path.join(out_dir, \"generated_chapters.txt\")\n",
    "    with open(out_txt, \"w\", encoding=\"utf-8\") as f:\n",
    "        for i, chap in enumerate(chapters):\n",
    "            f.write(f\"章 {i+1}:\\n\")\n",
    "            for line in chap:\n",
    "                f.write(line + \"\\n\")\n",
    "            f.write(\"\\n\")\n",
    "    print(\"Saved generated chapters to\", out_txt)\n",
    "    return {\n",
    "        \"vae\": vae,\n",
    "        \"proj_skel\": proj_skel,\n",
    "        \"proj_poem\": proj_poem,\n",
    "        \"poem_emb\": poem_emb,\n",
    "        \"sbert\": sbert,\n",
    "        \"index\": index,\n",
    "        \"chapters\": chapters\n",
    "    }"
   ]
  },
  {
   "cell_type": "code",
   "execution_count": 14,
   "id": "882db649-1e90-4b91-85c5-dfee0f5da956",
   "metadata": {},
   "outputs": [],
   "source": [
    "# ----------------------------\n",
    "# Example poem list (請用你自己的詩庫擴充)\n",
    "# ----------------------------\n",
    "DEFAULT_POEMS = [\n",
    "    \"手舞風翔\", \"手擎明月\", \"風行林間\", \"雲翻細波\", \"足踏流水\",\n",
    "    \"踏雲而行\", \"身躍山河\", \"躍浪飛雲\", \"手揮秋水\", \"揚波微瀾\",\n",
    "    \"心念君子\", \"月出東山\", \"波瀾不驚\", \"雲行雨落\", \"霓虹閃爍\"\n",
    "]"
   ]
  },
  {
   "cell_type": "code",
   "execution_count": 15,
   "id": "a9539194-da44-43f2-b328-296ec35b09ff",
   "metadata": {},
   "outputs": [],
   "source": [
    "import csv"
   ]
  },
  {
   "cell_type": "code",
   "execution_count": 16,
   "id": "47be3491-9581-4230-a7a1-db87cae934a6",
   "metadata": {},
   "outputs": [
    {
     "name": "stdout",
     "output_type": "stream",
     "text": [
      "Found 251 csv files.\n",
      "Loaded C:\\Users\\user\\anaconda_projects\\codelab\\dance_csv\\Ballet_1.csv → shape (241, 33, 3)\n",
      "Loaded C:\\Users\\user\\anaconda_projects\\codelab\\dance_csv\\Ballet_10.csv → shape (70, 33, 3)\n",
      "Loaded C:\\Users\\user\\anaconda_projects\\codelab\\dance_csv\\Ballet_11.csv → shape (832, 33, 3)\n",
      "Loaded C:\\Users\\user\\anaconda_projects\\codelab\\dance_csv\\Ballet_12.csv → shape (9, 33, 3)\n",
      "Loaded C:\\Users\\user\\anaconda_projects\\codelab\\dance_csv\\Ballet_13.csv → shape (18, 33, 3)\n",
      "Loaded C:\\Users\\user\\anaconda_projects\\codelab\\dance_csv\\Ballet_14.csv → shape (1167, 33, 3)\n",
      "Loaded C:\\Users\\user\\anaconda_projects\\codelab\\dance_csv\\Ballet_15.csv → shape (3, 33, 3)\n",
      "Loaded C:\\Users\\user\\anaconda_projects\\codelab\\dance_csv\\Ballet_16.csv → shape (48, 33, 3)\n",
      "Loaded C:\\Users\\user\\anaconda_projects\\codelab\\dance_csv\\Ballet_17.csv → shape (481, 33, 3)\n",
      "Loaded C:\\Users\\user\\anaconda_projects\\codelab\\dance_csv\\Ballet_18.csv → shape (61, 33, 3)\n",
      "Loaded C:\\Users\\user\\anaconda_projects\\codelab\\dance_csv\\Ballet_19.csv → shape (229, 33, 3)\n",
      "Loaded C:\\Users\\user\\anaconda_projects\\codelab\\dance_csv\\Ballet_2.csv → shape (15, 33, 3)\n",
      "Loaded C:\\Users\\user\\anaconda_projects\\codelab\\dance_csv\\Ballet_20.csv → shape (55, 33, 3)\n",
      "Loaded C:\\Users\\user\\anaconda_projects\\codelab\\dance_csv\\Ballet_21.csv → shape (224, 33, 3)\n",
      "Loaded C:\\Users\\user\\anaconda_projects\\codelab\\dance_csv\\Ballet_22.csv → shape (369, 33, 3)\n",
      "Loaded C:\\Users\\user\\anaconda_projects\\codelab\\dance_csv\\Ballet_23.csv → shape (79, 33, 3)\n",
      "Loaded C:\\Users\\user\\anaconda_projects\\codelab\\dance_csv\\Ballet_24.csv → shape (319, 33, 3)\n",
      "Loaded C:\\Users\\user\\anaconda_projects\\codelab\\dance_csv\\Ballet_25.csv → shape (155, 33, 3)\n",
      "Loaded C:\\Users\\user\\anaconda_projects\\codelab\\dance_csv\\Ballet_26.csv → shape (171, 33, 3)\n",
      "Loaded C:\\Users\\user\\anaconda_projects\\codelab\\dance_csv\\Ballet_27.csv → shape (25, 33, 3)\n",
      "Loaded C:\\Users\\user\\anaconda_projects\\codelab\\dance_csv\\Ballet_28.csv → shape (79, 33, 3)\n",
      "Loaded C:\\Users\\user\\anaconda_projects\\codelab\\dance_csv\\Ballet_29.csv → shape (1283, 33, 3)\n",
      "Loaded C:\\Users\\user\\anaconda_projects\\codelab\\dance_csv\\Ballet_3.csv → shape (1832, 33, 3)\n",
      "Loaded C:\\Users\\user\\anaconda_projects\\codelab\\dance_csv\\Ballet_30.csv → shape (583, 33, 3)\n",
      "Loaded C:\\Users\\user\\anaconda_projects\\codelab\\dance_csv\\Ballet_31.csv → shape (389, 33, 3)\n",
      "Loaded C:\\Users\\user\\anaconda_projects\\codelab\\dance_csv\\Ballet_32.csv → shape (554, 33, 3)\n",
      "Loaded C:\\Users\\user\\anaconda_projects\\codelab\\dance_csv\\Ballet_33.csv → shape (182, 33, 3)\n",
      "Loaded C:\\Users\\user\\anaconda_projects\\codelab\\dance_csv\\Ballet_34.csv → shape (86, 33, 3)\n",
      "Loaded C:\\Users\\user\\anaconda_projects\\codelab\\dance_csv\\Ballet_35.csv → shape (78, 33, 3)\n",
      "Loaded C:\\Users\\user\\anaconda_projects\\codelab\\dance_csv\\Ballet_36.csv → shape (447, 33, 3)\n",
      "Loaded C:\\Users\\user\\anaconda_projects\\codelab\\dance_csv\\Ballet_37.csv → shape (347, 33, 3)\n",
      "Loaded C:\\Users\\user\\anaconda_projects\\codelab\\dance_csv\\Ballet_38.csv → shape (76, 33, 3)\n",
      "Loaded C:\\Users\\user\\anaconda_projects\\codelab\\dance_csv\\Ballet_39.csv → shape (167, 33, 3)\n",
      "Loaded C:\\Users\\user\\anaconda_projects\\codelab\\dance_csv\\Ballet_4.csv → shape (58, 33, 3)\n",
      "Loaded C:\\Users\\user\\anaconda_projects\\codelab\\dance_csv\\Ballet_40.csv → shape (593, 33, 3)\n",
      "Loaded C:\\Users\\user\\anaconda_projects\\codelab\\dance_csv\\Ballet_41.csv → shape (635, 33, 3)\n",
      "Loaded C:\\Users\\user\\anaconda_projects\\codelab\\dance_csv\\Ballet_42.csv → shape (75, 33, 3)\n",
      "Loaded C:\\Users\\user\\anaconda_projects\\codelab\\dance_csv\\Ballet_43.csv → shape (2866, 33, 3)\n",
      "Loaded C:\\Users\\user\\anaconda_projects\\codelab\\dance_csv\\Ballet_44.csv → shape (27, 33, 3)\n",
      "Loaded C:\\Users\\user\\anaconda_projects\\codelab\\dance_csv\\Ballet_45.csv → shape (821, 33, 3)\n",
      "Loaded C:\\Users\\user\\anaconda_projects\\codelab\\dance_csv\\Ballet_46.csv → shape (122, 33, 3)\n",
      "Loaded C:\\Users\\user\\anaconda_projects\\codelab\\dance_csv\\Ballet_47.csv → shape (2837, 33, 3)\n",
      "Loaded C:\\Users\\user\\anaconda_projects\\codelab\\dance_csv\\Ballet_48.csv → shape (368, 33, 3)\n",
      "Loaded C:\\Users\\user\\anaconda_projects\\codelab\\dance_csv\\Ballet_5.csv → shape (1686, 33, 3)\n",
      "Loaded C:\\Users\\user\\anaconda_projects\\codelab\\dance_csv\\Ballet_6.csv → shape (312, 33, 3)\n",
      "Loaded C:\\Users\\user\\anaconda_projects\\codelab\\dance_csv\\Ballet_7.csv → shape (283, 33, 3)\n",
      "Loaded C:\\Users\\user\\anaconda_projects\\codelab\\dance_csv\\Ballet_8.csv → shape (724, 33, 3)\n",
      "Loaded C:\\Users\\user\\anaconda_projects\\codelab\\dance_csv\\Ballet_9.csv → shape (19, 33, 3)\n",
      "Loaded C:\\Users\\user\\anaconda_projects\\codelab\\dance_csv\\JiaJiangDance_49.csv → shape (108, 33, 3)\n",
      "Loaded C:\\Users\\user\\anaconda_projects\\codelab\\dance_csv\\JiaJiangDance_50.csv → shape (18, 33, 3)\n",
      "Loaded C:\\Users\\user\\anaconda_projects\\codelab\\dance_csv\\JiaJiangDance_51.csv → shape (138, 33, 3)\n",
      "Loaded C:\\Users\\user\\anaconda_projects\\codelab\\dance_csv\\JiaJiangDance_52.csv → shape (64, 33, 3)\n",
      "Loaded C:\\Users\\user\\anaconda_projects\\codelab\\dance_csv\\JiaJiangDance_53.csv → shape (159, 33, 3)\n",
      "Loaded C:\\Users\\user\\anaconda_projects\\codelab\\dance_csv\\JiaJiangDance_54.csv → shape (45, 33, 3)\n",
      "Loaded C:\\Users\\user\\anaconda_projects\\codelab\\dance_csv\\JiaJiangDance_55.csv → shape (110, 33, 3)\n",
      "Loaded C:\\Users\\user\\anaconda_projects\\codelab\\dance_csv\\JiaJiangDance_56.csv → shape (19, 33, 3)\n",
      "Loaded C:\\Users\\user\\anaconda_projects\\codelab\\dance_csv\\JiaJiangDance_57.csv → shape (584, 33, 3)\n",
      "Loaded C:\\Users\\user\\anaconda_projects\\codelab\\dance_csv\\JiaJiangDance_58.csv → shape (92, 33, 3)\n",
      "Loaded C:\\Users\\user\\anaconda_projects\\codelab\\dance_csv\\JiaJiangDance_59.csv → shape (13, 33, 3)\n",
      "Loaded C:\\Users\\user\\anaconda_projects\\codelab\\dance_csv\\JiaJiangDance_60.csv → shape (103, 33, 3)\n",
      "Loaded C:\\Users\\user\\anaconda_projects\\codelab\\dance_csv\\JiaJiangDance_61.csv → shape (192, 33, 3)\n",
      "Loaded C:\\Users\\user\\anaconda_projects\\codelab\\dance_csv\\JiaJiangDance_62.csv → shape (208, 33, 3)\n",
      "Loaded C:\\Users\\user\\anaconda_projects\\codelab\\dance_csv\\JiaJiangDance_63.csv → shape (285, 33, 3)\n",
      "Loaded C:\\Users\\user\\anaconda_projects\\codelab\\dance_csv\\JiaJiangDance_64.csv → shape (276, 33, 3)\n",
      "Loaded C:\\Users\\user\\anaconda_projects\\codelab\\dance_csv\\JiaJiangDance_65.csv → shape (309, 33, 3)\n",
      "Loaded C:\\Users\\user\\anaconda_projects\\codelab\\dance_csv\\JiaJiangDance_66.csv → shape (820, 33, 3)\n",
      "Loaded C:\\Users\\user\\anaconda_projects\\codelab\\dance_csv\\JiaJiangDance_67.csv → shape (1461, 33, 3)\n",
      "Loaded C:\\Users\\user\\anaconda_projects\\codelab\\dance_csv\\JiaJiangDance_68.csv → shape (205, 33, 3)\n",
      "Loaded C:\\Users\\user\\anaconda_projects\\codelab\\dance_csv\\JiaJiangDance_69.csv → shape (186, 33, 3)\n",
      "Loaded C:\\Users\\user\\anaconda_projects\\codelab\\dance_csv\\JiaJiangDance_70.csv → shape (205, 33, 3)\n",
      "Loaded C:\\Users\\user\\anaconda_projects\\codelab\\dance_csv\\JiaJiangDance_71.csv → shape (183, 33, 3)\n",
      "Loaded C:\\Users\\user\\anaconda_projects\\codelab\\dance_csv\\JiaJiangDance_72.csv → shape (205, 33, 3)\n",
      "Loaded C:\\Users\\user\\anaconda_projects\\codelab\\dance_csv\\JiaJiangDance_73.csv → shape (264, 33, 3)\n",
      "Loaded C:\\Users\\user\\anaconda_projects\\codelab\\dance_csv\\JiaJiangDance_74.csv → shape (495, 33, 3)\n",
      "Loaded C:\\Users\\user\\anaconda_projects\\codelab\\dance_csv\\StreetDance_251.csv → shape (1409, 33, 3)\n",
      "Loaded C:\\Users\\user\\anaconda_projects\\codelab\\dance_csv\\StreetDance_75.csv → shape (3139, 33, 3)\n",
      "Loaded C:\\Users\\user\\anaconda_projects\\codelab\\dance_csv\\StreetDance_76.csv → shape (2657, 33, 3)\n",
      "Loaded C:\\Users\\user\\anaconda_projects\\codelab\\dance_csv\\StreetDance_77.csv → shape (561, 33, 3)\n",
      "Loaded C:\\Users\\user\\anaconda_projects\\codelab\\dance_csv\\StreetDance_78.csv → shape (360, 33, 3)\n",
      "Loaded C:\\Users\\user\\anaconda_projects\\codelab\\dance_csv\\StreetDance_79.csv → shape (332, 33, 3)\n",
      "Loaded C:\\Users\\user\\anaconda_projects\\codelab\\dance_csv\\StreetDance_80.csv → shape (314, 33, 3)\n",
      "Loaded C:\\Users\\user\\anaconda_projects\\codelab\\dance_csv\\StreetDance_81.csv → shape (91, 33, 3)\n",
      "Loaded C:\\Users\\user\\anaconda_projects\\codelab\\dance_csv\\StreetDance_82.csv → shape (289, 33, 3)\n",
      "Loaded C:\\Users\\user\\anaconda_projects\\codelab\\dance_csv\\StreetDance_83.csv → shape (349, 33, 3)\n",
      "Loaded C:\\Users\\user\\anaconda_projects\\codelab\\dance_csv\\StreetDance_84.csv → shape (164, 33, 3)\n",
      "Loaded C:\\Users\\user\\anaconda_projects\\codelab\\dance_csv\\StreetDance_85.csv → shape (1749, 33, 3)\n",
      "Loaded C:\\Users\\user\\anaconda_projects\\codelab\\dance_csv\\StreetDance_86.csv → shape (108, 33, 3)\n",
      "Loaded C:\\Users\\user\\anaconda_projects\\codelab\\dance_csv\\StreetDance_87.csv → shape (1050, 33, 3)\n",
      "Loaded C:\\Users\\user\\anaconda_projects\\codelab\\dance_csv\\StreetDance_88.csv → shape (5953, 33, 3)\n",
      "Loaded C:\\Users\\user\\anaconda_projects\\codelab\\dance_csv\\StreetDance_89.csv → shape (2126, 33, 3)\n",
      "Loaded C:\\Users\\user\\anaconda_projects\\codelab\\dance_csv\\StreetDance_90.csv → shape (1333, 33, 3)\n",
      "Loaded C:\\Users\\user\\anaconda_projects\\codelab\\dance_csv\\StreetDance_91.csv → shape (371, 33, 3)\n",
      "Loaded C:\\Users\\user\\anaconda_projects\\codelab\\dance_csv\\StreetDance_92.csv → shape (5441, 33, 3)\n",
      "Loaded C:\\Users\\user\\anaconda_projects\\codelab\\dance_csv\\StreetDance_93.csv → shape (3387, 33, 3)\n",
      "Loaded C:\\Users\\user\\anaconda_projects\\codelab\\dance_csv\\TaiwaneseAboriginalDance_100.csv → shape (986, 33, 3)\n",
      "Loaded C:\\Users\\user\\anaconda_projects\\codelab\\dance_csv\\TaiwaneseAboriginalDance_101.csv → shape (808, 33, 3)\n",
      "Loaded C:\\Users\\user\\anaconda_projects\\codelab\\dance_csv\\TaiwaneseAboriginalDance_102.csv → shape (12, 33, 3)\n",
      "Loaded C:\\Users\\user\\anaconda_projects\\codelab\\dance_csv\\TaiwaneseAboriginalDance_103.csv → shape (266, 33, 3)\n",
      "Loaded C:\\Users\\user\\anaconda_projects\\codelab\\dance_csv\\TaiwaneseAboriginalDance_104.csv → shape (17, 33, 3)\n",
      "Loaded C:\\Users\\user\\anaconda_projects\\codelab\\dance_csv\\TaiwaneseAboriginalDance_105.csv → shape (288, 33, 3)\n",
      "Loaded C:\\Users\\user\\anaconda_projects\\codelab\\dance_csv\\TaiwaneseAboriginalDance_106.csv → shape (4978, 33, 3)\n",
      "Loaded C:\\Users\\user\\anaconda_projects\\codelab\\dance_csv\\TaiwaneseAboriginalDance_107.csv → shape (7054, 33, 3)\n",
      "Loaded C:\\Users\\user\\anaconda_projects\\codelab\\dance_csv\\TaiwaneseAboriginalDance_108.csv → shape (2161, 33, 3)\n",
      "Loaded C:\\Users\\user\\anaconda_projects\\codelab\\dance_csv\\TaiwaneseAboriginalDance_109.csv → shape (630, 33, 3)\n",
      "Loaded C:\\Users\\user\\anaconda_projects\\codelab\\dance_csv\\TaiwaneseAboriginalDance_110.csv → shape (1111, 33, 3)\n",
      "Loaded C:\\Users\\user\\anaconda_projects\\codelab\\dance_csv\\TaiwaneseAboriginalDance_111.csv → shape (486, 33, 3)\n",
      "Loaded C:\\Users\\user\\anaconda_projects\\codelab\\dance_csv\\TaiwaneseAboriginalDance_112.csv → shape (23, 33, 3)\n",
      "Loaded C:\\Users\\user\\anaconda_projects\\codelab\\dance_csv\\TaiwaneseAboriginalDance_113.csv → shape (534, 33, 3)\n",
      "Loaded C:\\Users\\user\\anaconda_projects\\codelab\\dance_csv\\TaiwaneseAboriginalDance_114.csv → shape (47, 33, 3)\n",
      "Loaded C:\\Users\\user\\anaconda_projects\\codelab\\dance_csv\\TaiwaneseAboriginalDance_115.csv → shape (1885, 33, 3)\n",
      "Loaded C:\\Users\\user\\anaconda_projects\\codelab\\dance_csv\\TaiwaneseAboriginalDance_116.csv → shape (505, 33, 3)\n",
      "Loaded C:\\Users\\user\\anaconda_projects\\codelab\\dance_csv\\TaiwaneseAboriginalDance_117.csv → shape (15, 33, 3)\n",
      "Loaded C:\\Users\\user\\anaconda_projects\\codelab\\dance_csv\\TaiwaneseAboriginalDance_118.csv → shape (454, 33, 3)\n",
      "Loaded C:\\Users\\user\\anaconda_projects\\codelab\\dance_csv\\TaiwaneseAboriginalDance_119.csv → shape (1509, 33, 3)\n",
      "Loaded C:\\Users\\user\\anaconda_projects\\codelab\\dance_csv\\TaiwaneseAboriginalDance_120.csv → shape (11, 33, 3)\n",
      "Loaded C:\\Users\\user\\anaconda_projects\\codelab\\dance_csv\\TaiwaneseAboriginalDance_121.csv → shape (153, 33, 3)\n",
      "Loaded C:\\Users\\user\\anaconda_projects\\codelab\\dance_csv\\TaiwaneseAboriginalDance_122.csv → shape (39, 33, 3)\n",
      "Loaded C:\\Users\\user\\anaconda_projects\\codelab\\dance_csv\\TaiwaneseAboriginalDance_123.csv → shape (713, 33, 3)\n",
      "Loaded C:\\Users\\user\\anaconda_projects\\codelab\\dance_csv\\TaiwaneseAboriginalDance_124.csv → shape (1222, 33, 3)\n",
      "Loaded C:\\Users\\user\\anaconda_projects\\codelab\\dance_csv\\TaiwaneseAboriginalDance_125.csv → shape (286, 33, 3)\n",
      "Loaded C:\\Users\\user\\anaconda_projects\\codelab\\dance_csv\\TaiwaneseAboriginalDance_126.csv → shape (281, 33, 3)\n",
      "Loaded C:\\Users\\user\\anaconda_projects\\codelab\\dance_csv\\TaiwaneseAboriginalDance_127.csv → shape (243, 33, 3)\n",
      "Loaded C:\\Users\\user\\anaconda_projects\\codelab\\dance_csv\\TaiwaneseAboriginalDance_128.csv → shape (38, 33, 3)\n",
      "Loaded C:\\Users\\user\\anaconda_projects\\codelab\\dance_csv\\TaiwaneseAboriginalDance_129.csv → shape (115, 33, 3)\n",
      "Loaded C:\\Users\\user\\anaconda_projects\\codelab\\dance_csv\\TaiwaneseAboriginalDance_130.csv → shape (125, 33, 3)\n",
      "Loaded C:\\Users\\user\\anaconda_projects\\codelab\\dance_csv\\TaiwaneseAboriginalDance_131.csv → shape (1999, 33, 3)\n",
      "Loaded C:\\Users\\user\\anaconda_projects\\codelab\\dance_csv\\TaiwaneseAboriginalDance_132.csv → shape (472, 33, 3)\n",
      "Loaded C:\\Users\\user\\anaconda_projects\\codelab\\dance_csv\\TaiwaneseAboriginalDance_133.csv → shape (159, 33, 3)\n",
      "Loaded C:\\Users\\user\\anaconda_projects\\codelab\\dance_csv\\TaiwaneseAboriginalDance_134.csv → shape (1100, 33, 3)\n",
      "Loaded C:\\Users\\user\\anaconda_projects\\codelab\\dance_csv\\TaiwaneseAboriginalDance_135.csv → shape (22, 33, 3)\n",
      "Loaded C:\\Users\\user\\anaconda_projects\\codelab\\dance_csv\\TaiwaneseAboriginalDance_136.csv → shape (1143, 33, 3)\n",
      "Loaded C:\\Users\\user\\anaconda_projects\\codelab\\dance_csv\\TaiwaneseAboriginalDance_137.csv → shape (4160, 33, 3)\n",
      "Loaded C:\\Users\\user\\anaconda_projects\\codelab\\dance_csv\\TaiwaneseAboriginalDance_138.csv → shape (1181, 33, 3)\n",
      "Loaded C:\\Users\\user\\anaconda_projects\\codelab\\dance_csv\\TaiwaneseAboriginalDance_139.csv → shape (794, 33, 3)\n",
      "Loaded C:\\Users\\user\\anaconda_projects\\codelab\\dance_csv\\TaiwaneseAboriginalDance_140.csv → shape (19, 33, 3)\n",
      "Loaded C:\\Users\\user\\anaconda_projects\\codelab\\dance_csv\\TaiwaneseAboriginalDance_141.csv → shape (438, 33, 3)\n",
      "Loaded C:\\Users\\user\\anaconda_projects\\codelab\\dance_csv\\TaiwaneseAboriginalDance_142.csv → shape (64, 33, 3)\n",
      "Loaded C:\\Users\\user\\anaconda_projects\\codelab\\dance_csv\\TaiwaneseAboriginalDance_143.csv → shape (15, 33, 3)\n",
      "Loaded C:\\Users\\user\\anaconda_projects\\codelab\\dance_csv\\TaiwaneseAboriginalDance_144.csv → shape (179, 33, 3)\n",
      "Loaded C:\\Users\\user\\anaconda_projects\\codelab\\dance_csv\\TaiwaneseAboriginalDance_145.csv → shape (59, 33, 3)\n",
      "Loaded C:\\Users\\user\\anaconda_projects\\codelab\\dance_csv\\TaiwaneseAboriginalDance_146.csv → shape (456, 33, 3)\n",
      "Loaded C:\\Users\\user\\anaconda_projects\\codelab\\dance_csv\\TaiwaneseAboriginalDance_147.csv → shape (456, 33, 3)\n",
      "Loaded C:\\Users\\user\\anaconda_projects\\codelab\\dance_csv\\TaiwaneseAboriginalDance_148.csv → shape (96, 33, 3)\n",
      "Loaded C:\\Users\\user\\anaconda_projects\\codelab\\dance_csv\\TaiwaneseAboriginalDance_149.csv → shape (1590, 33, 3)\n",
      "Loaded C:\\Users\\user\\anaconda_projects\\codelab\\dance_csv\\TaiwaneseAboriginalDance_150.csv → shape (23, 33, 3)\n",
      "Loaded C:\\Users\\user\\anaconda_projects\\codelab\\dance_csv\\TaiwaneseAboriginalDance_151.csv → shape (30, 33, 3)\n",
      "Loaded C:\\Users\\user\\anaconda_projects\\codelab\\dance_csv\\TaiwaneseAboriginalDance_152.csv → shape (2509, 33, 3)\n",
      "Loaded C:\\Users\\user\\anaconda_projects\\codelab\\dance_csv\\TaiwaneseAboriginalDance_153.csv → shape (1717, 33, 3)\n",
      "Loaded C:\\Users\\user\\anaconda_projects\\codelab\\dance_csv\\TaiwaneseAboriginalDance_154.csv → shape (25, 33, 3)\n",
      "Loaded C:\\Users\\user\\anaconda_projects\\codelab\\dance_csv\\TaiwaneseAboriginalDance_155.csv → shape (492, 33, 3)\n",
      "Loaded C:\\Users\\user\\anaconda_projects\\codelab\\dance_csv\\TaiwaneseAboriginalDance_156.csv → shape (707, 33, 3)\n",
      "Loaded C:\\Users\\user\\anaconda_projects\\codelab\\dance_csv\\TaiwaneseAboriginalDance_157.csv → shape (34, 33, 3)\n",
      "Loaded C:\\Users\\user\\anaconda_projects\\codelab\\dance_csv\\TaiwaneseAboriginalDance_158.csv → shape (12, 33, 3)\n",
      "Loaded C:\\Users\\user\\anaconda_projects\\codelab\\dance_csv\\TaiwaneseAboriginalDance_159.csv → shape (5660, 33, 3)\n",
      "Loaded C:\\Users\\user\\anaconda_projects\\codelab\\dance_csv\\TaiwaneseAboriginalDance_160.csv → shape (4971, 33, 3)\n",
      "Loaded C:\\Users\\user\\anaconda_projects\\codelab\\dance_csv\\TaiwaneseAboriginalDance_161.csv → shape (66, 33, 3)\n",
      "Loaded C:\\Users\\user\\anaconda_projects\\codelab\\dance_csv\\TaiwaneseAboriginalDance_162.csv → shape (60, 33, 3)\n",
      "Loaded C:\\Users\\user\\anaconda_projects\\codelab\\dance_csv\\TaiwaneseAboriginalDance_163.csv → shape (1084, 33, 3)\n",
      "Loaded C:\\Users\\user\\anaconda_projects\\codelab\\dance_csv\\TaiwaneseAboriginalDance_164.csv → shape (38, 33, 3)\n",
      "Loaded C:\\Users\\user\\anaconda_projects\\codelab\\dance_csv\\TaiwaneseAboriginalDance_165.csv → shape (1753, 33, 3)\n",
      "Loaded C:\\Users\\user\\anaconda_projects\\codelab\\dance_csv\\TaiwaneseAboriginalDance_166.csv → shape (2596, 33, 3)\n",
      "Loaded C:\\Users\\user\\anaconda_projects\\codelab\\dance_csv\\TaiwaneseAboriginalDance_167.csv → shape (294, 33, 3)\n",
      "Loaded C:\\Users\\user\\anaconda_projects\\codelab\\dance_csv\\TaiwaneseAboriginalDance_168.csv → shape (182, 33, 3)\n",
      "Loaded C:\\Users\\user\\anaconda_projects\\codelab\\dance_csv\\TaiwaneseAboriginalDance_169.csv → shape (284, 33, 3)\n",
      "Loaded C:\\Users\\user\\anaconda_projects\\codelab\\dance_csv\\TaiwaneseAboriginalDance_170.csv → shape (26, 33, 3)\n",
      "Loaded C:\\Users\\user\\anaconda_projects\\codelab\\dance_csv\\TaiwaneseAboriginalDance_171.csv → shape (12, 33, 3)\n",
      "Loaded C:\\Users\\user\\anaconda_projects\\codelab\\dance_csv\\TaiwaneseAboriginalDance_172.csv → shape (271, 33, 3)\n",
      "Loaded C:\\Users\\user\\anaconda_projects\\codelab\\dance_csv\\TaiwaneseAboriginalDance_173.csv → shape (22, 33, 3)\n",
      "Loaded C:\\Users\\user\\anaconda_projects\\codelab\\dance_csv\\TaiwaneseAboriginalDance_174.csv → shape (697, 33, 3)\n",
      "Loaded C:\\Users\\user\\anaconda_projects\\codelab\\dance_csv\\TaiwaneseAboriginalDance_175.csv → shape (1383, 33, 3)\n",
      "Loaded C:\\Users\\user\\anaconda_projects\\codelab\\dance_csv\\TaiwaneseAboriginalDance_176.csv → shape (31, 33, 3)\n",
      "Loaded C:\\Users\\user\\anaconda_projects\\codelab\\dance_csv\\TaiwaneseAboriginalDance_177.csv → shape (525, 33, 3)\n",
      "Loaded C:\\Users\\user\\anaconda_projects\\codelab\\dance_csv\\TaiwaneseAboriginalDance_178.csv → shape (190, 33, 3)\n",
      "Loaded C:\\Users\\user\\anaconda_projects\\codelab\\dance_csv\\TaiwaneseAboriginalDance_179.csv → shape (671, 33, 3)\n",
      "Loaded C:\\Users\\user\\anaconda_projects\\codelab\\dance_csv\\TaiwaneseAboriginalDance_180.csv → shape (4578, 33, 3)\n",
      "Loaded C:\\Users\\user\\anaconda_projects\\codelab\\dance_csv\\TaiwaneseAboriginalDance_181.csv → shape (235, 33, 3)\n",
      "Loaded C:\\Users\\user\\anaconda_projects\\codelab\\dance_csv\\TaiwaneseAboriginalDance_182.csv → shape (144, 33, 3)\n",
      "Loaded C:\\Users\\user\\anaconda_projects\\codelab\\dance_csv\\TaiwaneseAboriginalDance_183.csv → shape (19, 33, 3)\n",
      "Loaded C:\\Users\\user\\anaconda_projects\\codelab\\dance_csv\\TaiwaneseAboriginalDance_184.csv → shape (2448, 33, 3)\n",
      "Loaded C:\\Users\\user\\anaconda_projects\\codelab\\dance_csv\\TaiwaneseAboriginalDance_185.csv → shape (23, 33, 3)\n",
      "Loaded C:\\Users\\user\\anaconda_projects\\codelab\\dance_csv\\TaiwaneseAboriginalDance_186.csv → shape (25, 33, 3)\n",
      "Loaded C:\\Users\\user\\anaconda_projects\\codelab\\dance_csv\\TaiwaneseAboriginalDance_187.csv → shape (2370, 33, 3)\n",
      "Loaded C:\\Users\\user\\anaconda_projects\\codelab\\dance_csv\\TaiwaneseAboriginalDance_188.csv → shape (31, 33, 3)\n",
      "Loaded C:\\Users\\user\\anaconda_projects\\codelab\\dance_csv\\TaiwaneseAboriginalDance_189.csv → shape (103, 33, 3)\n",
      "Loaded C:\\Users\\user\\anaconda_projects\\codelab\\dance_csv\\TaiwaneseAboriginalDance_190.csv → shape (5920, 33, 3)\n",
      "Loaded C:\\Users\\user\\anaconda_projects\\codelab\\dance_csv\\TaiwaneseAboriginalDance_191.csv → shape (8063, 33, 3)\n",
      "Loaded C:\\Users\\user\\anaconda_projects\\codelab\\dance_csv\\TaiwaneseAboriginalDance_192.csv → shape (2427, 33, 3)\n",
      "Loaded C:\\Users\\user\\anaconda_projects\\codelab\\dance_csv\\TaiwaneseAboriginalDance_193.csv → shape (1589, 33, 3)\n",
      "Loaded C:\\Users\\user\\anaconda_projects\\codelab\\dance_csv\\TaiwaneseAboriginalDance_194.csv → shape (90, 33, 3)\n",
      "Loaded C:\\Users\\user\\anaconda_projects\\codelab\\dance_csv\\TaiwaneseAboriginalDance_195.csv → shape (567, 33, 3)\n",
      "Loaded C:\\Users\\user\\anaconda_projects\\codelab\\dance_csv\\TaiwaneseAboriginalDance_196.csv → shape (2628, 33, 3)\n",
      "Loaded C:\\Users\\user\\anaconda_projects\\codelab\\dance_csv\\TaiwaneseAboriginalDance_197.csv → shape (14, 33, 3)\n",
      "Loaded C:\\Users\\user\\anaconda_projects\\codelab\\dance_csv\\TaiwaneseAboriginalDance_198.csv → shape (1178, 33, 3)\n",
      "Loaded C:\\Users\\user\\anaconda_projects\\codelab\\dance_csv\\TaiwaneseAboriginalDance_199.csv → shape (5347, 33, 3)\n",
      "Loaded C:\\Users\\user\\anaconda_projects\\codelab\\dance_csv\\TaiwaneseAboriginalDance_200.csv → shape (1868, 33, 3)\n",
      "Loaded C:\\Users\\user\\anaconda_projects\\codelab\\dance_csv\\TaiwaneseAboriginalDance_201.csv → shape (42, 33, 3)\n",
      "Loaded C:\\Users\\user\\anaconda_projects\\codelab\\dance_csv\\TaiwaneseAboriginalDance_202.csv → shape (195, 33, 3)\n",
      "Loaded C:\\Users\\user\\anaconda_projects\\codelab\\dance_csv\\TaiwaneseAboriginalDance_203.csv → shape (2362, 33, 3)\n",
      "Loaded C:\\Users\\user\\anaconda_projects\\codelab\\dance_csv\\TaiwaneseAboriginalDance_204.csv → shape (36, 33, 3)\n",
      "Loaded C:\\Users\\user\\anaconda_projects\\codelab\\dance_csv\\TaiwaneseAboriginalDance_205.csv → shape (902, 33, 3)\n",
      "Loaded C:\\Users\\user\\anaconda_projects\\codelab\\dance_csv\\TaiwaneseAboriginalDance_206.csv → shape (776, 33, 3)\n",
      "Loaded C:\\Users\\user\\anaconda_projects\\codelab\\dance_csv\\TaiwaneseAboriginalDance_207.csv → shape (7171, 33, 3)\n",
      "Loaded C:\\Users\\user\\anaconda_projects\\codelab\\dance_csv\\TaiwaneseAboriginalDance_208.csv → shape (6992, 33, 3)\n",
      "Loaded C:\\Users\\user\\anaconda_projects\\codelab\\dance_csv\\TaiwaneseAboriginalDance_209.csv → shape (1964, 33, 3)\n",
      "Loaded C:\\Users\\user\\anaconda_projects\\codelab\\dance_csv\\TaiwaneseAboriginalDance_210.csv → shape (1385, 33, 3)\n",
      "Loaded C:\\Users\\user\\anaconda_projects\\codelab\\dance_csv\\TaiwaneseAboriginalDance_211.csv → shape (15, 33, 3)\n",
      "Loaded C:\\Users\\user\\anaconda_projects\\codelab\\dance_csv\\TaiwaneseAboriginalDance_212.csv → shape (1972, 33, 3)\n",
      "Loaded C:\\Users\\user\\anaconda_projects\\codelab\\dance_csv\\TaiwaneseAboriginalDance_213.csv → shape (2167, 33, 3)\n",
      "Loaded C:\\Users\\user\\anaconda_projects\\codelab\\dance_csv\\TaiwaneseAboriginalDance_214.csv → shape (3547, 33, 3)\n",
      "Loaded C:\\Users\\user\\anaconda_projects\\codelab\\dance_csv\\TaiwaneseAboriginalDance_215.csv → shape (1385, 33, 3)\n",
      "Loaded C:\\Users\\user\\anaconda_projects\\codelab\\dance_csv\\TaiwaneseAboriginalDance_216.csv → shape (1969, 33, 3)\n",
      "Loaded C:\\Users\\user\\anaconda_projects\\codelab\\dance_csv\\TaiwaneseAboriginalDance_217.csv → shape (6126, 33, 3)\n",
      "Loaded C:\\Users\\user\\anaconda_projects\\codelab\\dance_csv\\TaiwaneseAboriginalDance_218.csv → shape (1403, 33, 3)\n",
      "Loaded C:\\Users\\user\\anaconda_projects\\codelab\\dance_csv\\TaiwaneseAboriginalDance_219.csv → shape (217, 33, 3)\n",
      "Loaded C:\\Users\\user\\anaconda_projects\\codelab\\dance_csv\\TaiwaneseAboriginalDance_220.csv → shape (1346, 33, 3)\n",
      "Loaded C:\\Users\\user\\anaconda_projects\\codelab\\dance_csv\\TaiwaneseAboriginalDance_221.csv → shape (517, 33, 3)\n",
      "Loaded C:\\Users\\user\\anaconda_projects\\codelab\\dance_csv\\TaiwaneseAboriginalDance_222.csv → shape (55, 33, 3)\n",
      "Loaded C:\\Users\\user\\anaconda_projects\\codelab\\dance_csv\\TaiwaneseAboriginalDance_223.csv → shape (141, 33, 3)\n",
      "Loaded C:\\Users\\user\\anaconda_projects\\codelab\\dance_csv\\TaiwaneseAboriginalDance_224.csv → shape (491, 33, 3)\n",
      "Loaded C:\\Users\\user\\anaconda_projects\\codelab\\dance_csv\\TaiwaneseAboriginalDance_225.csv → shape (38, 33, 3)\n",
      "Loaded C:\\Users\\user\\anaconda_projects\\codelab\\dance_csv\\TaiwaneseAboriginalDance_226.csv → shape (121, 33, 3)\n",
      "Loaded C:\\Users\\user\\anaconda_projects\\codelab\\dance_csv\\TaiwaneseAboriginalDance_227.csv → shape (1586, 33, 3)\n",
      "Loaded C:\\Users\\user\\anaconda_projects\\codelab\\dance_csv\\TaiwaneseAboriginalDance_228.csv → shape (247, 33, 3)\n",
      "Loaded C:\\Users\\user\\anaconda_projects\\codelab\\dance_csv\\TaiwaneseAboriginalDance_229.csv → shape (569, 33, 3)\n",
      "Loaded C:\\Users\\user\\anaconda_projects\\codelab\\dance_csv\\TaiwaneseAboriginalDance_230.csv → shape (107, 33, 3)\n",
      "Loaded C:\\Users\\user\\anaconda_projects\\codelab\\dance_csv\\TaiwaneseAboriginalDance_231.csv → shape (1025, 33, 3)\n",
      "Loaded C:\\Users\\user\\anaconda_projects\\codelab\\dance_csv\\TaiwaneseAboriginalDance_232.csv → shape (220, 33, 3)\n",
      "Loaded C:\\Users\\user\\anaconda_projects\\codelab\\dance_csv\\TaiwaneseAboriginalDance_233.csv → shape (540, 33, 3)\n",
      "Loaded C:\\Users\\user\\anaconda_projects\\codelab\\dance_csv\\TaiwaneseAboriginalDance_234.csv → shape (2747, 33, 3)\n",
      "Loaded C:\\Users\\user\\anaconda_projects\\codelab\\dance_csv\\TaiwaneseAboriginalDance_235.csv → shape (39, 33, 3)\n",
      "Loaded C:\\Users\\user\\anaconda_projects\\codelab\\dance_csv\\TaiwaneseAboriginalDance_236.csv → shape (14, 33, 3)\n",
      "Loaded C:\\Users\\user\\anaconda_projects\\codelab\\dance_csv\\TaiwaneseAboriginalDance_237.csv → shape (4, 33, 3)\n",
      "Loaded C:\\Users\\user\\anaconda_projects\\codelab\\dance_csv\\TaiwaneseAboriginalDance_238.csv → shape (300, 33, 3)\n",
      "Loaded C:\\Users\\user\\anaconda_projects\\codelab\\dance_csv\\TaiwaneseAboriginalDance_94.csv → shape (1274, 33, 3)\n",
      "Loaded C:\\Users\\user\\anaconda_projects\\codelab\\dance_csv\\TaiwaneseAboriginalDance_95.csv → shape (1856, 33, 3)\n",
      "Loaded C:\\Users\\user\\anaconda_projects\\codelab\\dance_csv\\TaiwaneseAboriginalDance_96.csv → shape (5563, 33, 3)\n",
      "Loaded C:\\Users\\user\\anaconda_projects\\codelab\\dance_csv\\TaiwaneseAboriginalDance_97.csv → shape (10, 33, 3)\n",
      "Loaded C:\\Users\\user\\anaconda_projects\\codelab\\dance_csv\\TaiwaneseAboriginalDance_98.csv → shape (6894, 33, 3)\n",
      "Loaded C:\\Users\\user\\anaconda_projects\\codelab\\dance_csv\\TaiwaneseAboriginalDance_99.csv → shape (50, 33, 3)\n",
      "Loaded C:\\Users\\user\\anaconda_projects\\codelab\\dance_csv\\TapDance_239.csv → shape (3581, 33, 3)\n",
      "Loaded C:\\Users\\user\\anaconda_projects\\codelab\\dance_csv\\TapDance_240.csv → shape (1386, 33, 3)\n",
      "Loaded C:\\Users\\user\\anaconda_projects\\codelab\\dance_csv\\TapDance_241.csv → shape (4778, 33, 3)\n",
      "Loaded C:\\Users\\user\\anaconda_projects\\codelab\\dance_csv\\TapDance_242.csv → shape (2707, 33, 3)\n",
      "Loaded C:\\Users\\user\\anaconda_projects\\codelab\\dance_csv\\TapDance_243.csv → shape (4134, 33, 3)\n",
      "Loaded C:\\Users\\user\\anaconda_projects\\codelab\\dance_csv\\TapDance_244.csv → shape (3798, 33, 3)\n",
      "Loaded C:\\Users\\user\\anaconda_projects\\codelab\\dance_csv\\TapDance_245.csv → shape (3260, 33, 3)\n",
      "Loaded C:\\Users\\user\\anaconda_projects\\codelab\\dance_csv\\TapDance_246.csv → shape (3638, 33, 3)\n",
      "Loaded C:\\Users\\user\\anaconda_projects\\codelab\\dance_csv\\TapDance_247.csv → shape (3412, 33, 3)\n",
      "Loaded C:\\Users\\user\\anaconda_projects\\codelab\\dance_csv\\TapDance_248.csv → shape (3312, 33, 3)\n",
      "Loaded C:\\Users\\user\\anaconda_projects\\codelab\\dance_csv\\TapDance_249.csv → shape (55, 33, 3)\n",
      "Loaded C:\\Users\\user\\anaconda_projects\\codelab\\dance_csv\\TapDance_250.csv → shape (3294, 33, 3)\n",
      "Total windows: (16591, 32, 198)\n",
      "PCA reduced dim: 64\n",
      "Training VAE...\n"
     ]
    },
    {
     "name": "stderr",
     "output_type": "stream",
     "text": [
      "VAE epoch 1/40: 100%|████████████████████████████████████████████████████████████████| 518/518 [00:14<00:00, 35.53it/s]\n"
     ]
    },
    {
     "name": "stdout",
     "output_type": "stream",
     "text": [
      "Epoch 1: loss=2.917431, recon=2.900261, kl=0.017170\n"
     ]
    },
    {
     "name": "stderr",
     "output_type": "stream",
     "text": [
      "VAE epoch 2/40: 100%|████████████████████████████████████████████████████████████████| 518/518 [00:14<00:00, 36.25it/s]\n"
     ]
    },
    {
     "name": "stdout",
     "output_type": "stream",
     "text": [
      "Epoch 2: loss=2.915561, recon=2.902065, kl=0.013496\n"
     ]
    },
    {
     "name": "stderr",
     "output_type": "stream",
     "text": [
      "VAE epoch 3/40: 100%|████████████████████████████████████████████████████████████████| 518/518 [00:14<00:00, 35.17it/s]\n"
     ]
    },
    {
     "name": "stdout",
     "output_type": "stream",
     "text": [
      "Epoch 3: loss=2.881481, recon=2.866378, kl=0.015103\n"
     ]
    },
    {
     "name": "stderr",
     "output_type": "stream",
     "text": [
      "VAE epoch 4/40: 100%|████████████████████████████████████████████████████████████████| 518/518 [00:14<00:00, 36.28it/s]\n"
     ]
    },
    {
     "name": "stdout",
     "output_type": "stream",
     "text": [
      "Epoch 4: loss=2.859492, recon=2.838108, kl=0.021384\n"
     ]
    },
    {
     "name": "stderr",
     "output_type": "stream",
     "text": [
      "VAE epoch 5/40: 100%|████████████████████████████████████████████████████████████████| 518/518 [00:13<00:00, 37.15it/s]\n"
     ]
    },
    {
     "name": "stdout",
     "output_type": "stream",
     "text": [
      "Epoch 5: loss=2.839634, recon=2.810887, kl=0.028747\n"
     ]
    },
    {
     "name": "stderr",
     "output_type": "stream",
     "text": [
      "VAE epoch 6/40: 100%|████████████████████████████████████████████████████████████████| 518/518 [00:14<00:00, 36.28it/s]\n"
     ]
    },
    {
     "name": "stdout",
     "output_type": "stream",
     "text": [
      "Epoch 6: loss=2.800184, recon=2.776034, kl=0.024151\n"
     ]
    },
    {
     "name": "stderr",
     "output_type": "stream",
     "text": [
      "VAE epoch 7/40: 100%|████████████████████████████████████████████████████████████████| 518/518 [00:14<00:00, 35.32it/s]\n"
     ]
    },
    {
     "name": "stdout",
     "output_type": "stream",
     "text": [
      "Epoch 7: loss=2.777922, recon=2.751874, kl=0.026048\n"
     ]
    },
    {
     "name": "stderr",
     "output_type": "stream",
     "text": [
      "VAE epoch 8/40: 100%|████████████████████████████████████████████████████████████████| 518/518 [00:14<00:00, 36.26it/s]\n"
     ]
    },
    {
     "name": "stdout",
     "output_type": "stream",
     "text": [
      "Epoch 8: loss=2.750128, recon=2.720310, kl=0.029818\n"
     ]
    },
    {
     "name": "stderr",
     "output_type": "stream",
     "text": [
      "VAE epoch 9/40: 100%|████████████████████████████████████████████████████████████████| 518/518 [00:14<00:00, 35.91it/s]\n"
     ]
    },
    {
     "name": "stdout",
     "output_type": "stream",
     "text": [
      "Epoch 9: loss=2.700275, recon=2.664807, kl=0.035468\n"
     ]
    },
    {
     "name": "stderr",
     "output_type": "stream",
     "text": [
      "VAE epoch 10/40: 100%|███████████████████████████████████████████████████████████████| 518/518 [00:14<00:00, 35.91it/s]\n"
     ]
    },
    {
     "name": "stdout",
     "output_type": "stream",
     "text": [
      "Epoch 10: loss=2.671767, recon=2.633208, kl=0.038559\n"
     ]
    },
    {
     "name": "stderr",
     "output_type": "stream",
     "text": [
      "VAE epoch 11/40: 100%|███████████████████████████████████████████████████████████████| 518/518 [00:14<00:00, 35.99it/s]\n"
     ]
    },
    {
     "name": "stdout",
     "output_type": "stream",
     "text": [
      "Epoch 11: loss=2.646609, recon=2.604835, kl=0.041773\n"
     ]
    },
    {
     "name": "stderr",
     "output_type": "stream",
     "text": [
      "VAE epoch 12/40: 100%|███████████████████████████████████████████████████████████████| 518/518 [00:14<00:00, 35.22it/s]\n"
     ]
    },
    {
     "name": "stdout",
     "output_type": "stream",
     "text": [
      "Epoch 12: loss=2.629034, recon=2.584681, kl=0.044353\n"
     ]
    },
    {
     "name": "stderr",
     "output_type": "stream",
     "text": [
      "VAE epoch 13/40: 100%|███████████████████████████████████████████████████████████████| 518/518 [00:14<00:00, 35.96it/s]\n"
     ]
    },
    {
     "name": "stdout",
     "output_type": "stream",
     "text": [
      "Epoch 13: loss=2.607290, recon=2.557989, kl=0.049300\n"
     ]
    },
    {
     "name": "stderr",
     "output_type": "stream",
     "text": [
      "VAE epoch 14/40: 100%|███████████████████████████████████████████████████████████████| 518/518 [00:14<00:00, 36.17it/s]\n"
     ]
    },
    {
     "name": "stdout",
     "output_type": "stream",
     "text": [
      "Epoch 14: loss=2.580631, recon=2.526583, kl=0.054048\n"
     ]
    },
    {
     "name": "stderr",
     "output_type": "stream",
     "text": [
      "VAE epoch 15/40: 100%|███████████████████████████████████████████████████████████████| 518/518 [00:14<00:00, 35.25it/s]\n"
     ]
    },
    {
     "name": "stdout",
     "output_type": "stream",
     "text": [
      "Epoch 15: loss=2.546998, recon=2.488635, kl=0.058363\n"
     ]
    },
    {
     "name": "stderr",
     "output_type": "stream",
     "text": [
      "VAE epoch 16/40: 100%|███████████████████████████████████████████████████████████████| 518/518 [00:14<00:00, 35.50it/s]\n"
     ]
    },
    {
     "name": "stdout",
     "output_type": "stream",
     "text": [
      "Epoch 16: loss=2.523890, recon=2.463969, kl=0.059920\n"
     ]
    },
    {
     "name": "stderr",
     "output_type": "stream",
     "text": [
      "VAE epoch 17/40: 100%|███████████████████████████████████████████████████████████████| 518/518 [00:14<00:00, 35.28it/s]\n"
     ]
    },
    {
     "name": "stdout",
     "output_type": "stream",
     "text": [
      "Epoch 17: loss=2.501090, recon=2.439919, kl=0.061171\n"
     ]
    },
    {
     "name": "stderr",
     "output_type": "stream",
     "text": [
      "VAE epoch 18/40: 100%|███████████████████████████████████████████████████████████████| 518/518 [00:14<00:00, 35.34it/s]\n"
     ]
    },
    {
     "name": "stdout",
     "output_type": "stream",
     "text": [
      "Epoch 18: loss=2.477388, recon=2.415656, kl=0.061732\n"
     ]
    },
    {
     "name": "stderr",
     "output_type": "stream",
     "text": [
      "VAE epoch 19/40: 100%|███████████████████████████████████████████████████████████████| 518/518 [00:14<00:00, 35.36it/s]\n"
     ]
    },
    {
     "name": "stdout",
     "output_type": "stream",
     "text": [
      "Epoch 19: loss=2.458771, recon=2.396975, kl=0.061796\n"
     ]
    },
    {
     "name": "stderr",
     "output_type": "stream",
     "text": [
      "VAE epoch 20/40: 100%|███████████████████████████████████████████████████████████████| 518/518 [00:14<00:00, 35.19it/s]\n"
     ]
    },
    {
     "name": "stdout",
     "output_type": "stream",
     "text": [
      "Epoch 20: loss=2.442786, recon=2.380891, kl=0.061895\n"
     ]
    },
    {
     "name": "stderr",
     "output_type": "stream",
     "text": [
      "VAE epoch 21/40: 100%|███████████████████████████████████████████████████████████████| 518/518 [00:14<00:00, 35.36it/s]\n"
     ]
    },
    {
     "name": "stdout",
     "output_type": "stream",
     "text": [
      "Epoch 21: loss=2.427774, recon=2.365789, kl=0.061985\n"
     ]
    },
    {
     "name": "stderr",
     "output_type": "stream",
     "text": [
      "VAE epoch 22/40: 100%|███████████████████████████████████████████████████████████████| 518/518 [00:14<00:00, 34.69it/s]\n"
     ]
    },
    {
     "name": "stdout",
     "output_type": "stream",
     "text": [
      "Epoch 22: loss=2.412202, recon=2.351271, kl=0.060931\n"
     ]
    },
    {
     "name": "stderr",
     "output_type": "stream",
     "text": [
      "VAE epoch 23/40: 100%|███████████████████████████████████████████████████████████████| 518/518 [00:13<00:00, 37.02it/s]\n"
     ]
    },
    {
     "name": "stdout",
     "output_type": "stream",
     "text": [
      "Epoch 23: loss=2.397276, recon=2.336437, kl=0.060839\n"
     ]
    },
    {
     "name": "stderr",
     "output_type": "stream",
     "text": [
      "VAE epoch 24/40: 100%|███████████████████████████████████████████████████████████████| 518/518 [00:14<00:00, 35.58it/s]\n"
     ]
    },
    {
     "name": "stdout",
     "output_type": "stream",
     "text": [
      "Epoch 24: loss=2.382177, recon=2.320778, kl=0.061399\n"
     ]
    },
    {
     "name": "stderr",
     "output_type": "stream",
     "text": [
      "VAE epoch 25/40: 100%|███████████████████████████████████████████████████████████████| 518/518 [00:14<00:00, 35.63it/s]\n"
     ]
    },
    {
     "name": "stdout",
     "output_type": "stream",
     "text": [
      "Epoch 25: loss=2.367975, recon=2.305387, kl=0.062588\n"
     ]
    },
    {
     "name": "stderr",
     "output_type": "stream",
     "text": [
      "VAE epoch 26/40: 100%|███████████████████████████████████████████████████████████████| 518/518 [00:14<00:00, 35.96it/s]\n"
     ]
    },
    {
     "name": "stdout",
     "output_type": "stream",
     "text": [
      "Epoch 26: loss=2.354235, recon=2.290677, kl=0.063558\n"
     ]
    },
    {
     "name": "stderr",
     "output_type": "stream",
     "text": [
      "VAE epoch 27/40: 100%|███████████████████████████████████████████████████████████████| 518/518 [00:14<00:00, 35.12it/s]\n"
     ]
    },
    {
     "name": "stdout",
     "output_type": "stream",
     "text": [
      "Epoch 27: loss=2.343374, recon=2.277996, kl=0.065378\n"
     ]
    },
    {
     "name": "stderr",
     "output_type": "stream",
     "text": [
      "VAE epoch 28/40: 100%|███████████████████████████████████████████████████████████████| 518/518 [00:15<00:00, 34.53it/s]\n"
     ]
    },
    {
     "name": "stdout",
     "output_type": "stream",
     "text": [
      "Epoch 28: loss=2.330316, recon=2.263130, kl=0.067186\n"
     ]
    },
    {
     "name": "stderr",
     "output_type": "stream",
     "text": [
      "VAE epoch 29/40: 100%|███████████████████████████████████████████████████████████████| 518/518 [00:14<00:00, 35.62it/s]\n"
     ]
    },
    {
     "name": "stdout",
     "output_type": "stream",
     "text": [
      "Epoch 29: loss=2.321166, recon=2.252280, kl=0.068886\n"
     ]
    },
    {
     "name": "stderr",
     "output_type": "stream",
     "text": [
      "VAE epoch 30/40: 100%|███████████████████████████████████████████████████████████████| 518/518 [00:14<00:00, 34.86it/s]\n"
     ]
    },
    {
     "name": "stdout",
     "output_type": "stream",
     "text": [
      "Epoch 30: loss=2.311038, recon=2.240899, kl=0.070139\n"
     ]
    },
    {
     "name": "stderr",
     "output_type": "stream",
     "text": [
      "VAE epoch 31/40: 100%|███████████████████████████████████████████████████████████████| 518/518 [00:14<00:00, 35.92it/s]\n"
     ]
    },
    {
     "name": "stdout",
     "output_type": "stream",
     "text": [
      "Epoch 31: loss=2.305841, recon=2.234353, kl=0.071487\n"
     ]
    },
    {
     "name": "stderr",
     "output_type": "stream",
     "text": [
      "VAE epoch 32/40: 100%|███████████████████████████████████████████████████████████████| 518/518 [00:14<00:00, 35.03it/s]\n"
     ]
    },
    {
     "name": "stdout",
     "output_type": "stream",
     "text": [
      "Epoch 32: loss=2.296987, recon=2.224751, kl=0.072236\n"
     ]
    },
    {
     "name": "stderr",
     "output_type": "stream",
     "text": [
      "VAE epoch 33/40: 100%|███████████████████████████████████████████████████████████████| 518/518 [00:14<00:00, 35.42it/s]\n"
     ]
    },
    {
     "name": "stdout",
     "output_type": "stream",
     "text": [
      "Epoch 33: loss=2.292430, recon=2.218912, kl=0.073518\n"
     ]
    },
    {
     "name": "stderr",
     "output_type": "stream",
     "text": [
      "VAE epoch 34/40: 100%|███████████████████████████████████████████████████████████████| 518/518 [00:14<00:00, 34.77it/s]\n"
     ]
    },
    {
     "name": "stdout",
     "output_type": "stream",
     "text": [
      "Epoch 34: loss=2.284864, recon=2.210609, kl=0.074255\n"
     ]
    },
    {
     "name": "stderr",
     "output_type": "stream",
     "text": [
      "VAE epoch 35/40: 100%|███████████████████████████████████████████████████████████████| 518/518 [00:14<00:00, 34.92it/s]\n"
     ]
    },
    {
     "name": "stdout",
     "output_type": "stream",
     "text": [
      "Epoch 35: loss=2.278342, recon=2.202966, kl=0.075375\n"
     ]
    },
    {
     "name": "stderr",
     "output_type": "stream",
     "text": [
      "VAE epoch 36/40: 100%|███████████████████████████████████████████████████████████████| 518/518 [00:14<00:00, 34.79it/s]\n"
     ]
    },
    {
     "name": "stdout",
     "output_type": "stream",
     "text": [
      "Epoch 36: loss=2.272650, recon=2.196778, kl=0.075872\n"
     ]
    },
    {
     "name": "stderr",
     "output_type": "stream",
     "text": [
      "VAE epoch 37/40: 100%|███████████████████████████████████████████████████████████████| 518/518 [00:14<00:00, 35.05it/s]\n"
     ]
    },
    {
     "name": "stdout",
     "output_type": "stream",
     "text": [
      "Epoch 37: loss=2.268915, recon=2.192232, kl=0.076683\n"
     ]
    },
    {
     "name": "stderr",
     "output_type": "stream",
     "text": [
      "VAE epoch 38/40: 100%|███████████████████████████████████████████████████████████████| 518/518 [00:14<00:00, 35.29it/s]\n"
     ]
    },
    {
     "name": "stdout",
     "output_type": "stream",
     "text": [
      "Epoch 38: loss=2.263576, recon=2.186176, kl=0.077400\n"
     ]
    },
    {
     "name": "stderr",
     "output_type": "stream",
     "text": [
      "VAE epoch 39/40: 100%|███████████████████████████████████████████████████████████████| 518/518 [00:14<00:00, 35.56it/s]\n"
     ]
    },
    {
     "name": "stdout",
     "output_type": "stream",
     "text": [
      "Epoch 39: loss=2.258508, recon=2.180900, kl=0.077608\n"
     ]
    },
    {
     "name": "stderr",
     "output_type": "stream",
     "text": [
      "VAE epoch 40/40: 100%|███████████████████████████████████████████████████████████████| 518/518 [00:14<00:00, 34.91it/s]\n"
     ]
    },
    {
     "name": "stdout",
     "output_type": "stream",
     "text": [
      "Epoch 40: loss=2.253534, recon=2.175319, kl=0.078215\n"
     ]
    },
    {
     "name": "stderr",
     "output_type": "stream",
     "text": [
      "Encoding all windows to z: 100%|████████████████████████████████████████████████████| 519/519 [00:01<00:00, 436.08it/s]\n"
     ]
    },
    {
     "data": {
      "application/vnd.jupyter.widget-view+json": {
       "model_id": "a001b3abc18d4cc4bbd409b816f975d0",
       "version_major": 2,
       "version_minor": 0
      },
      "text/plain": [
       "Batches:   0%|          | 0/1 [00:00<?, ?it/s]"
      ]
     },
     "metadata": {},
     "output_type": "display_data"
    },
    {
     "name": "stderr",
     "output_type": "stream",
     "text": [
      "C:\\Users\\user\\anaconda3\\envs\\code-lab\\lib\\site-packages\\torch\\nn\\modules\\module.py:1747: FutureWarning: `encoder_attention_mask` is deprecated and will be removed in version 4.55.0 for `BertSdpaSelfAttention.forward`.\n",
      "  return forward_call(*args, **kwargs)\n"
     ]
    },
    {
     "name": "stdout",
     "output_type": "stream",
     "text": [
      "Creating heuristic pseudo pairs...\n",
      "Pseudo pairs count: 16591\n",
      "Training projection heads (contrastive)...\n"
     ]
    },
    {
     "name": "stderr",
     "output_type": "stream",
     "text": [
      "Contrastive epoch 1/30: 100%|███████████████████████████████████████████████████████| 519/519 [00:03<00:00, 166.27it/s]\n"
     ]
    },
    {
     "name": "stdout",
     "output_type": "stream",
     "text": [
      "Epoch 1: contrastive_loss=2.210767\n"
     ]
    },
    {
     "name": "stderr",
     "output_type": "stream",
     "text": [
      "Contrastive epoch 2/30: 100%|███████████████████████████████████████████████████████| 519/519 [00:02<00:00, 188.91it/s]\n"
     ]
    },
    {
     "name": "stdout",
     "output_type": "stream",
     "text": [
      "Epoch 2: contrastive_loss=2.191796\n"
     ]
    },
    {
     "name": "stderr",
     "output_type": "stream",
     "text": [
      "Contrastive epoch 3/30: 100%|███████████████████████████████████████████████████████| 519/519 [00:03<00:00, 134.67it/s]\n"
     ]
    },
    {
     "name": "stdout",
     "output_type": "stream",
     "text": [
      "Epoch 3: contrastive_loss=2.189641\n"
     ]
    },
    {
     "name": "stderr",
     "output_type": "stream",
     "text": [
      "Contrastive epoch 4/30: 100%|███████████████████████████████████████████████████████| 519/519 [00:02<00:00, 191.98it/s]\n"
     ]
    },
    {
     "name": "stdout",
     "output_type": "stream",
     "text": [
      "Epoch 4: contrastive_loss=2.188840\n"
     ]
    },
    {
     "name": "stderr",
     "output_type": "stream",
     "text": [
      "Contrastive epoch 5/30: 100%|███████████████████████████████████████████████████████| 519/519 [00:02<00:00, 201.89it/s]\n"
     ]
    },
    {
     "name": "stdout",
     "output_type": "stream",
     "text": [
      "Epoch 5: contrastive_loss=2.188264\n"
     ]
    },
    {
     "name": "stderr",
     "output_type": "stream",
     "text": [
      "Contrastive epoch 6/30: 100%|███████████████████████████████████████████████████████| 519/519 [00:02<00:00, 192.26it/s]\n"
     ]
    },
    {
     "name": "stdout",
     "output_type": "stream",
     "text": [
      "Epoch 6: contrastive_loss=2.187526\n"
     ]
    },
    {
     "name": "stderr",
     "output_type": "stream",
     "text": [
      "Contrastive epoch 7/30: 100%|███████████████████████████████████████████████████████| 519/519 [00:02<00:00, 189.30it/s]\n"
     ]
    },
    {
     "name": "stdout",
     "output_type": "stream",
     "text": [
      "Epoch 7: contrastive_loss=2.187554\n"
     ]
    },
    {
     "name": "stderr",
     "output_type": "stream",
     "text": [
      "Contrastive epoch 8/30: 100%|███████████████████████████████████████████████████████| 519/519 [00:04<00:00, 109.78it/s]\n"
     ]
    },
    {
     "name": "stdout",
     "output_type": "stream",
     "text": [
      "Epoch 8: contrastive_loss=2.187181\n"
     ]
    },
    {
     "name": "stderr",
     "output_type": "stream",
     "text": [
      "Contrastive epoch 9/30: 100%|███████████████████████████████████████████████████████| 519/519 [00:03<00:00, 168.79it/s]\n"
     ]
    },
    {
     "name": "stdout",
     "output_type": "stream",
     "text": [
      "Epoch 9: contrastive_loss=2.186625\n"
     ]
    },
    {
     "name": "stderr",
     "output_type": "stream",
     "text": [
      "Contrastive epoch 10/30: 100%|██████████████████████████████████████████████████████| 519/519 [00:02<00:00, 175.11it/s]\n"
     ]
    },
    {
     "name": "stdout",
     "output_type": "stream",
     "text": [
      "Epoch 10: contrastive_loss=2.186677\n"
     ]
    },
    {
     "name": "stderr",
     "output_type": "stream",
     "text": [
      "Contrastive epoch 11/30: 100%|██████████████████████████████████████████████████████| 519/519 [00:02<00:00, 205.07it/s]\n"
     ]
    },
    {
     "name": "stdout",
     "output_type": "stream",
     "text": [
      "Epoch 11: contrastive_loss=2.186673\n"
     ]
    },
    {
     "name": "stderr",
     "output_type": "stream",
     "text": [
      "Contrastive epoch 12/30: 100%|██████████████████████████████████████████████████████| 519/519 [00:04<00:00, 124.07it/s]\n"
     ]
    },
    {
     "name": "stdout",
     "output_type": "stream",
     "text": [
      "Epoch 12: contrastive_loss=2.186725\n"
     ]
    },
    {
     "name": "stderr",
     "output_type": "stream",
     "text": [
      "Contrastive epoch 13/30: 100%|██████████████████████████████████████████████████████| 519/519 [00:04<00:00, 120.12it/s]\n"
     ]
    },
    {
     "name": "stdout",
     "output_type": "stream",
     "text": [
      "Epoch 13: contrastive_loss=2.187453\n"
     ]
    },
    {
     "name": "stderr",
     "output_type": "stream",
     "text": [
      "Contrastive epoch 14/30: 100%|██████████████████████████████████████████████████████| 519/519 [00:04<00:00, 110.01it/s]\n"
     ]
    },
    {
     "name": "stdout",
     "output_type": "stream",
     "text": [
      "Epoch 14: contrastive_loss=2.186139\n"
     ]
    },
    {
     "name": "stderr",
     "output_type": "stream",
     "text": [
      "Contrastive epoch 15/30: 100%|██████████████████████████████████████████████████████| 519/519 [00:03<00:00, 170.05it/s]\n"
     ]
    },
    {
     "name": "stdout",
     "output_type": "stream",
     "text": [
      "Epoch 15: contrastive_loss=2.186160\n"
     ]
    },
    {
     "name": "stderr",
     "output_type": "stream",
     "text": [
      "Contrastive epoch 16/30: 100%|██████████████████████████████████████████████████████| 519/519 [00:02<00:00, 214.82it/s]\n"
     ]
    },
    {
     "name": "stdout",
     "output_type": "stream",
     "text": [
      "Epoch 16: contrastive_loss=2.185924\n"
     ]
    },
    {
     "name": "stderr",
     "output_type": "stream",
     "text": [
      "Contrastive epoch 17/30: 100%|██████████████████████████████████████████████████████| 519/519 [00:03<00:00, 140.98it/s]\n"
     ]
    },
    {
     "name": "stdout",
     "output_type": "stream",
     "text": [
      "Epoch 17: contrastive_loss=2.185917\n"
     ]
    },
    {
     "name": "stderr",
     "output_type": "stream",
     "text": [
      "Contrastive epoch 18/30: 100%|██████████████████████████████████████████████████████| 519/519 [00:03<00:00, 169.38it/s]\n"
     ]
    },
    {
     "name": "stdout",
     "output_type": "stream",
     "text": [
      "Epoch 18: contrastive_loss=2.186197\n"
     ]
    },
    {
     "name": "stderr",
     "output_type": "stream",
     "text": [
      "Contrastive epoch 19/30: 100%|██████████████████████████████████████████████████████| 519/519 [00:02<00:00, 220.69it/s]\n"
     ]
    },
    {
     "name": "stdout",
     "output_type": "stream",
     "text": [
      "Epoch 19: contrastive_loss=2.186043\n"
     ]
    },
    {
     "name": "stderr",
     "output_type": "stream",
     "text": [
      "Contrastive epoch 20/30: 100%|██████████████████████████████████████████████████████| 519/519 [00:02<00:00, 212.04it/s]\n"
     ]
    },
    {
     "name": "stdout",
     "output_type": "stream",
     "text": [
      "Epoch 20: contrastive_loss=2.185769\n"
     ]
    },
    {
     "name": "stderr",
     "output_type": "stream",
     "text": [
      "Contrastive epoch 21/30: 100%|██████████████████████████████████████████████████████| 519/519 [00:02<00:00, 204.21it/s]\n"
     ]
    },
    {
     "name": "stdout",
     "output_type": "stream",
     "text": [
      "Epoch 21: contrastive_loss=2.185504\n"
     ]
    },
    {
     "name": "stderr",
     "output_type": "stream",
     "text": [
      "Contrastive epoch 22/30: 100%|██████████████████████████████████████████████████████| 519/519 [00:03<00:00, 152.92it/s]\n"
     ]
    },
    {
     "name": "stdout",
     "output_type": "stream",
     "text": [
      "Epoch 22: contrastive_loss=2.186121\n"
     ]
    },
    {
     "name": "stderr",
     "output_type": "stream",
     "text": [
      "Contrastive epoch 23/30: 100%|██████████████████████████████████████████████████████| 519/519 [00:04<00:00, 119.67it/s]\n"
     ]
    },
    {
     "name": "stdout",
     "output_type": "stream",
     "text": [
      "Epoch 23: contrastive_loss=2.185616\n"
     ]
    },
    {
     "name": "stderr",
     "output_type": "stream",
     "text": [
      "Contrastive epoch 24/30: 100%|██████████████████████████████████████████████████████| 519/519 [00:04<00:00, 109.60it/s]\n"
     ]
    },
    {
     "name": "stdout",
     "output_type": "stream",
     "text": [
      "Epoch 24: contrastive_loss=2.185782\n"
     ]
    },
    {
     "name": "stderr",
     "output_type": "stream",
     "text": [
      "Contrastive epoch 25/30: 100%|██████████████████████████████████████████████████████| 519/519 [00:04<00:00, 120.05it/s]\n"
     ]
    },
    {
     "name": "stdout",
     "output_type": "stream",
     "text": [
      "Epoch 25: contrastive_loss=2.186202\n"
     ]
    },
    {
     "name": "stderr",
     "output_type": "stream",
     "text": [
      "Contrastive epoch 26/30: 100%|██████████████████████████████████████████████████████| 519/519 [00:04<00:00, 108.15it/s]\n"
     ]
    },
    {
     "name": "stdout",
     "output_type": "stream",
     "text": [
      "Epoch 26: contrastive_loss=2.185682\n"
     ]
    },
    {
     "name": "stderr",
     "output_type": "stream",
     "text": [
      "Contrastive epoch 27/30: 100%|██████████████████████████████████████████████████████| 519/519 [00:03<00:00, 161.52it/s]\n"
     ]
    },
    {
     "name": "stdout",
     "output_type": "stream",
     "text": [
      "Epoch 27: contrastive_loss=2.185677\n"
     ]
    },
    {
     "name": "stderr",
     "output_type": "stream",
     "text": [
      "Contrastive epoch 28/30: 100%|██████████████████████████████████████████████████████| 519/519 [00:04<00:00, 108.89it/s]\n"
     ]
    },
    {
     "name": "stdout",
     "output_type": "stream",
     "text": [
      "Epoch 28: contrastive_loss=2.186355\n"
     ]
    },
    {
     "name": "stderr",
     "output_type": "stream",
     "text": [
      "Contrastive epoch 29/30: 100%|██████████████████████████████████████████████████████| 519/519 [00:04<00:00, 121.22it/s]\n"
     ]
    },
    {
     "name": "stdout",
     "output_type": "stream",
     "text": [
      "Epoch 29: contrastive_loss=2.186301\n"
     ]
    },
    {
     "name": "stderr",
     "output_type": "stream",
     "text": [
      "Contrastive epoch 30/30: 100%|██████████████████████████████████████████████████████| 519/519 [00:04<00:00, 107.84it/s]\n"
     ]
    },
    {
     "name": "stdout",
     "output_type": "stream",
     "text": [
      "Epoch 30: contrastive_loss=2.185552\n",
      "Saved generated chapters to C:\\Users\\user\\anaconda_projects\\codelab\\outputs\\generated_chapters.txt\n",
      "Pipeline finished. Example chapters:\n",
      "章1:\n",
      "   手舞風翔\n",
      "   手舞風翔\n",
      "   手舞風翔\n",
      "   手舞風翔\n",
      "   手舞風翔\n",
      "   手舞風翔\n",
      "   手舞風翔\n",
      "\n",
      "章2:\n",
      "   手舞風翔\n",
      "   手舞風翔\n",
      "   手舞風翔\n",
      "   手舞風翔\n",
      "   手舞風翔\n",
      "   手舞風翔\n",
      "   手舞風翔\n",
      "\n",
      "章3:\n",
      "   手舞風翔\n",
      "   手舞風翔\n",
      "   手舞風翔\n",
      "   手舞風翔\n",
      "   手舞風翔\n",
      "   手舞風翔\n",
      "   手舞風翔\n",
      "\n",
      "章4:\n",
      "   手舞風翔\n",
      "   手舞風翔\n",
      "   手舞風翔\n",
      "   雲行雨落\n",
      "   手舞風翔\n",
      "\n",
      "章5:\n",
      "   手舞風翔\n",
      "   手舞風翔\n",
      "   手舞風翔\n",
      "   手舞風翔\n",
      "   手舞風翔\n",
      "   手舞風翔\n",
      "   手舞風翔\n",
      "\n"
     ]
    }
   ],
   "source": [
    "# ----------------------------\n",
    "# If run as script\n",
    "# ----------------------------\n",
    "if __name__ == \"__main__\":\n",
    "    import types\n",
    "    args = types.SimpleNamespace(\n",
    "        csv_folder=r\"C:\\Users\\user\\anaconda_projects\\codelab\\dance_csv\",\n",
    "        out_dir=r\"C:\\Users\\user\\anaconda_projects\\codelab\\outputs\",\n",
    "        use_pseudo=True,\n",
    "        poem_file=None\n",
    "    )\n",
    "\n",
    "    if args.poem_file and os.path.exists(args.poem_file):\n",
    "        with open(args.poem_file, \"r\", encoding=\"utf-8\") as f:\n",
    "            poem_list = [line.strip() for line in f if line.strip()]\n",
    "    else:\n",
    "        poem_list = DEFAULT_POEMS\n",
    "\n",
    "    res = run_pipeline(args.csv_folder, poem_list, out_dir=args.out_dir, use_pseudo_pairs=args.use_pseudo)\n",
    "    print(\"Pipeline finished. Example chapters:\")\n",
    "    for i, c in enumerate(res['chapters'][:5]):\n",
    "        print(f\"章{i+1}:\")\n",
    "        for line in c:\n",
    "            print(\"  \", line)\n",
    "        print()\n"
   ]
  },
  {
   "cell_type": "code",
   "execution_count": null,
   "id": "beeeeea6-aa96-4d9e-b8ae-5bd1e034fd66",
   "metadata": {},
   "outputs": [],
   "source": []
  }
 ],
 "metadata": {
  "kernelspec": {
   "display_name": "Python 3 (ipykernel)",
   "language": "python",
   "name": "python3"
  },
  "language_info": {
   "codemirror_mode": {
    "name": "ipython",
    "version": 3
   },
   "file_extension": ".py",
   "mimetype": "text/x-python",
   "name": "python",
   "nbconvert_exporter": "python",
   "pygments_lexer": "ipython3",
   "version": "3.10.13"
  }
 },
 "nbformat": 4,
 "nbformat_minor": 5
}
