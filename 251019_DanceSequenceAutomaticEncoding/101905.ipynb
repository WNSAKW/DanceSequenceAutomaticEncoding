{
 "cells": [
  {
   "cell_type": "code",
   "execution_count": 1,
   "id": "d4c75dbc-2e87-424b-8a51-a41a1d6e18cb",
   "metadata": {},
   "outputs": [],
   "source": [
    "import os\n",
    "import pandas as pd\n",
    "import numpy as np\n",
    "import torch\n",
    "from torch.utils.data import Dataset, DataLoader\n",
    "from sklearn.preprocessing import StandardScaler"
   ]
  },
  {
   "cell_type": "code",
   "execution_count": 2,
   "id": "765d2484-de85-44c5-9247-cf2e96e4dbee",
   "metadata": {},
   "outputs": [
    {
     "name": "stdout",
     "output_type": "stream",
     "text": [
      "骨架資料 shape: (271194, 99)\n"
     ]
    }
   ],
   "source": [
    "# -------------------------------\n",
    "# Step 1: 讀取 CSV 並轉成骨架向量\n",
    "# -------------------------------\n",
    "data_dir = \"./dance_csv/\"  # CSV 資料夾\n",
    "all_poses = []\n",
    "\n",
    "def parse_point(s):\n",
    "    s = s.strip(\"()\")\n",
    "    parts = [float(p.strip(\" '\")) for p in s.split(\",\")]\n",
    "    return parts\n",
    "\n",
    "for file in os.listdir(data_dir):\n",
    "    if file.endswith(\".csv\"):\n",
    "        df = pd.read_csv(os.path.join(data_dir, file))\n",
    "        pose_cols = [c for c in df.columns if c != \"frame\"]\n",
    "        poses = []\n",
    "        for _, row in df.iterrows():\n",
    "            pose = []\n",
    "            for c in pose_cols:\n",
    "                pose += parse_point(row[c])\n",
    "            poses.append(pose)\n",
    "        all_poses.append(np.array(poses))\n",
    "\n",
    "all_poses = np.concatenate(all_poses, axis=0)\n",
    "print(\"骨架資料 shape:\", all_poses.shape)"
   ]
  },
  {
   "cell_type": "code",
   "execution_count": 3,
   "id": "05e71efe-ca09-47e3-8eef-8fbeb0cc2082",
   "metadata": {},
   "outputs": [],
   "source": [
    "# -------------------------------\n",
    "# Step 2: 標準化\n",
    "# -------------------------------\n",
    "scaler = StandardScaler()\n",
    "all_poses = scaler.fit_transform(all_poses)"
   ]
  },
  {
   "cell_type": "code",
   "execution_count": 4,
   "id": "49e9837c-63e4-4d7a-8e4c-c5c9cfd3e917",
   "metadata": {},
   "outputs": [],
   "source": [
    "# -------------------------------\n",
    "# Step 3: Dataset / DataLoader\n",
    "# -------------------------------\n",
    "class PoseDataset(Dataset):\n",
    "    def __init__(self, data):\n",
    "        self.data = torch.tensor(data, dtype=torch.float32)\n",
    "    def __len__(self):\n",
    "        return len(self.data)\n",
    "    def __getitem__(self, idx):\n",
    "        return self.data[idx]\n",
    "\n",
    "dataset = PoseDataset(all_poses)\n",
    "dataloader = DataLoader(dataset, batch_size=64, shuffle=False)"
   ]
  },
  {
   "cell_type": "code",
   "execution_count": 5,
   "id": "bbf59725-d606-4d72-93f2-dc82caa868ee",
   "metadata": {},
   "outputs": [],
   "source": [
    "# -------------------------------\n",
    "# Step 4: 載入模型（確保與訓練一致）\n",
    "# -------------------------------\n",
    "import torch.nn as nn\n",
    "\n",
    "class VectorQuantizer(nn.Module):\n",
    "    def __init__(self, num_embeddings, embedding_dim):\n",
    "        super().__init__()\n",
    "        self.embedding_dim = embedding_dim\n",
    "        self.num_embeddings = num_embeddings\n",
    "        self.embedding = nn.Embedding(num_embeddings, embedding_dim)\n",
    "        self.embedding.weight.data.uniform_(-1/num_embeddings, 1/num_embeddings)\n",
    "\n",
    "    def forward(self, x):\n",
    "        distances = (\n",
    "            torch.sum(x**2, dim=1, keepdim=True)\n",
    "            + torch.sum(self.embedding.weight**2, dim=1)\n",
    "            - 2 * torch.matmul(x, self.embedding.weight.t())\n",
    "        )\n",
    "        encoding_indices = torch.argmin(distances, dim=1)\n",
    "        quantized = self.embedding(encoding_indices)\n",
    "        return quantized, encoding_indices\n",
    "\n",
    "class VQVAE(nn.Module):\n",
    "    def __init__(self, input_dim=99, hidden_dim=128, latent_dim=32, num_embeddings=64):\n",
    "        super().__init__()\n",
    "        self.encoder = nn.Sequential(\n",
    "            nn.Linear(input_dim, hidden_dim),\n",
    "            nn.ReLU(),\n",
    "            nn.Linear(hidden_dim, latent_dim)\n",
    "        )\n",
    "        self.vq = VectorQuantizer(num_embeddings, latent_dim)\n",
    "        self.decoder = nn.Sequential(\n",
    "            nn.Linear(latent_dim, hidden_dim),\n",
    "            nn.ReLU(),\n",
    "            nn.Linear(hidden_dim, input_dim)\n",
    "        )\n",
    "    def forward(self, x):\n",
    "        z = self.encoder(x)\n",
    "        z_q, indices = self.vq(z)\n",
    "        x_recon = self.decoder(z_q)\n",
    "        return x_recon, indices, z, z_q"
   ]
  },
  {
   "cell_type": "code",
   "execution_count": 6,
   "id": "2ba3debb-6ba6-4ef6-80fe-f69cc009cd5b",
   "metadata": {},
   "outputs": [
    {
     "name": "stdout",
     "output_type": "stream",
     "text": [
      "✅ 模型已載入\n"
     ]
    },
    {
     "name": "stderr",
     "output_type": "stream",
     "text": [
      "C:\\Users\\user\\AppData\\Local\\Temp\\ipykernel_26132\\3421327549.py:4: FutureWarning: You are using `torch.load` with `weights_only=False` (the current default value), which uses the default pickle module implicitly. It is possible to construct malicious pickle data which will execute arbitrary code during unpickling (See https://github.com/pytorch/pytorch/blob/main/SECURITY.md#untrusted-models for more details). In a future release, the default value for `weights_only` will be flipped to `True`. This limits the functions that could be executed during unpickling. Arbitrary objects will no longer be allowed to be loaded via this mode unless they are explicitly allowlisted by the user via `torch.serialization.add_safe_globals`. We recommend you start setting `weights_only=True` for any use case where you don't have full control of the loaded file. Please open an issue on GitHub for any issues related to this experimental feature.\n",
      "  model.load_state_dict(torch.load(model_path, map_location=device))\n"
     ]
    }
   ],
   "source": [
    "device = \"cuda\" if torch.cuda.is_available() else \"cpu\"\n",
    "model = VQVAE().to(device)\n",
    "model_path = \"vqvae_model.pth\"\n",
    "model.load_state_dict(torch.load(model_path, map_location=device))\n",
    "model.eval()\n",
    "print(\"✅ 模型已載入\")"
   ]
  },
  {
   "cell_type": "code",
   "execution_count": 7,
   "id": "1a343c5c-274a-4214-b2d7-da9a9bc397a4",
   "metadata": {},
   "outputs": [],
   "source": [
    "# -------------------------------\n",
    "# Step 5: 收集 codebook index\n",
    "# -------------------------------\n",
    "all_indices = []\n",
    "\n",
    "with torch.no_grad():\n",
    "    for batch in dataloader:\n",
    "        batch = batch.to(device)\n",
    "        _, indices, _, _ = model(batch)\n",
    "        all_indices.extend(indices.cpu().numpy().tolist())"
   ]
  },
  {
   "cell_type": "code",
   "execution_count": 8,
   "id": "9f0efb82-fc49-4f7e-8acf-fe41f955e967",
   "metadata": {},
   "outputs": [
    {
     "name": "stdout",
     "output_type": "stream",
     "text": [
      "📊 Codebook 使用統計 (index: count)：\n",
      "Index 30: 191656 次\n",
      "Index 34: 79538 次\n"
     ]
    }
   ],
   "source": [
    "# -------------------------------\n",
    "# Step 6: 統計 codebook 使用率\n",
    "# -------------------------------\n",
    "unique, counts = np.unique(all_indices, return_counts=True)\n",
    "distribution = dict(zip(unique, counts))\n",
    "\n",
    "print(\"📊 Codebook 使用統計 (index: count)：\")\n",
    "for k, v in distribution.items():\n",
    "    print(f\"Index {k}: {v} 次\")"
   ]
  },
  {
   "cell_type": "code",
   "execution_count": 9,
   "id": "0fdd4416-47d8-440c-b9d0-d68964c0db5f",
   "metadata": {},
   "outputs": [
    {
     "name": "stdout",
     "output_type": "stream",
     "text": [
      "符號序列預覽： eeeeeeeeeeiieeiieeeeeeeeeeeeeeeeeeeeeeeeeeeeeeeeeeeieeeeeeeeeeeeeeeeeeeeeeeeeeeeeeiiiiiiiiiiiiiiiieeeeeeeeeeeeeeeeeeeeeeeeeeeeeeeeeeeeeeeeeeeeeeeeeeeeeeeeeeeeeeeeeeeeeeeeeeeeeeeeeeeeeeeeeeeeeeeeiiiiii\n"
     ]
    }
   ],
   "source": [
    "# -------------------------------\n",
    "# Step 7: 將 index 轉成符號\n",
    "# -------------------------------\n",
    "def index_to_symbol(i):\n",
    "    symbols = [chr(c) for c in range(65, 91)] + [chr(c) for c in range(97, 123)] + [str(d) for d in range(10)]\n",
    "    return symbols[i % len(symbols)]\n",
    "\n",
    "symbol_sequence = [index_to_symbol(i) for i in all_indices]\n",
    "\n",
    "print(\"符號序列預覽：\", \"\".join(symbol_sequence[:200]))"
   ]
  },
  {
   "cell_type": "code",
   "execution_count": null,
   "id": "db4e69fb-f984-4a77-a699-9edf045d2b73",
   "metadata": {},
   "outputs": [],
   "source": []
  }
 ],
 "metadata": {
  "kernelspec": {
   "display_name": "Python 3 (ipykernel)",
   "language": "python",
   "name": "python3"
  },
  "language_info": {
   "codemirror_mode": {
    "name": "ipython",
    "version": 3
   },
   "file_extension": ".py",
   "mimetype": "text/x-python",
   "name": "python",
   "nbconvert_exporter": "python",
   "pygments_lexer": "ipython3",
   "version": "3.10.13"
  }
 },
 "nbformat": 4,
 "nbformat_minor": 5
}
