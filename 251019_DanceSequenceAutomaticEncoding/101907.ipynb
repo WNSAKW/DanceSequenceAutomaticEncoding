{
 "cells": [
  {
   "cell_type": "code",
   "execution_count": 1,
   "id": "b4a88767-bf07-449a-9c08-6b9cd5bee829",
   "metadata": {},
   "outputs": [],
   "source": [
    "# --- 匯入套件 ---\n",
    "import os\n",
    "import glob\n",
    "import pandas as pd\n",
    "import numpy as np\n",
    "import json\n",
    "import torch\n",
    "import torch.nn as nn\n",
    "from torch.utils.data import Dataset, DataLoader\n",
    "from sklearn.preprocessing import StandardScaler\n",
    "from sklearn.cluster import KMeans"
   ]
  },
  {
   "cell_type": "code",
   "execution_count": 2,
   "id": "c883ddac-006b-4592-ac23-f63896104518",
   "metadata": {},
   "outputs": [
    {
     "name": "stdout",
     "output_type": "stream",
     "text": [
      "骨架資料 shape: (271194, 99)\n"
     ]
    }
   ],
   "source": [
    "# --- Step 1: 讀取大量 CSV ---\n",
    "csv_folder = \"./dance_csv/\"  # 你的 CSV 資料夾\n",
    "csv_files = glob.glob(os.path.join(csv_folder, \"*.csv\"))\n",
    "\n",
    "all_poses = []\n",
    "\n",
    "def parse_point(s):\n",
    "    s = s.strip(\"()\")\n",
    "    parts = [float(p.strip(\" '\")) for p in s.split(\",\")]\n",
    "    return parts\n",
    "\n",
    "for csv_path in csv_files:\n",
    "    df = pd.read_csv(csv_path)\n",
    "    pose_cols = [c for c in df.columns if c != \"frame\"]\n",
    "    for i, row in df.iterrows():\n",
    "        pose = []\n",
    "        for c in pose_cols:\n",
    "            pose += parse_point(row[c])\n",
    "        all_poses.append(pose)\n",
    "\n",
    "all_poses = np.array(all_poses)  # shape: (total_frames, 99)\n",
    "print(\"骨架資料 shape:\", all_poses.shape)"
   ]
  },
  {
   "cell_type": "code",
   "execution_count": 3,
   "id": "83a4c1d5-1092-4405-adb0-a3f5dc015b35",
   "metadata": {},
   "outputs": [],
   "source": [
    "# --- Step 2: 標準化 ---\n",
    "scaler = StandardScaler()\n",
    "all_poses = scaler.fit_transform(all_poses)"
   ]
  },
  {
   "cell_type": "code",
   "execution_count": 4,
   "id": "d4fca7d8-ffe8-4478-b861-e8d278798bb5",
   "metadata": {},
   "outputs": [],
   "source": [
    "# --- Step 3: 建立 Dataset / DataLoader ---\n",
    "class PoseDataset(Dataset):\n",
    "    def __init__(self, data, seq_len=10):\n",
    "        self.data = torch.tensor(data, dtype=torch.float32)\n",
    "        self.seq_len = seq_len\n",
    "    def __len__(self):\n",
    "        return len(self.data) - self.seq_len\n",
    "    def __getitem__(self, idx):\n",
    "        seq = self.data[idx:idx+self.seq_len]\n",
    "        return seq, seq  # autoencoder\n",
    "\n",
    "seq_len = 10\n",
    "dataset = PoseDataset(all_poses, seq_len)\n",
    "dataloader = DataLoader(dataset, batch_size=64, shuffle=True)"
   ]
  },
  {
   "cell_type": "code",
   "execution_count": 5,
   "id": "bb08f783-900c-479e-9f1b-479c4cebd350",
   "metadata": {},
   "outputs": [],
   "source": [
    "# --- Step 4: 定義 LSTM Autoencoder ---\n",
    "class LSTMAutoencoder(nn.Module):\n",
    "    def __init__(self, input_dim=99, hidden_dim=128, latent_dim=32, num_layers=1):\n",
    "        super().__init__()\n",
    "        self.encoder = nn.LSTM(input_dim, hidden_dim, num_layers, batch_first=True)\n",
    "        self.fc_enc = nn.Linear(hidden_dim, latent_dim)\n",
    "        self.fc_dec = nn.Linear(latent_dim, hidden_dim)\n",
    "        self.decoder = nn.LSTM(hidden_dim, input_dim, num_layers, batch_first=True)\n",
    "\n",
    "    def forward(self, x):\n",
    "        # x: (batch, seq_len, input_dim)\n",
    "        enc_out, (h_n, c_n) = self.encoder(x)\n",
    "        # 取最後 timestep 的 hidden state\n",
    "        latent = self.fc_enc(enc_out[:, -1, :])\n",
    "        # decoder\n",
    "        dec_input = self.fc_dec(latent).unsqueeze(1).repeat(1, x.size(1), 1)\n",
    "        dec_out, _ = self.decoder(dec_input)\n",
    "        return dec_out, latent\n",
    "\n",
    "device = \"cuda\" if torch.cuda.is_available() else \"cpu\"\n",
    "model = LSTMAutoencoder().to(device)\n",
    "optimizer = torch.optim.Adam(model.parameters(), lr=1e-3)\n",
    "loss_fn = nn.MSELoss()"
   ]
  },
  {
   "cell_type": "code",
   "execution_count": 6,
   "id": "a6805c32-054a-4021-a297-5339a3979129",
   "metadata": {},
   "outputs": [
    {
     "name": "stdout",
     "output_type": "stream",
     "text": [
      "Epoch 1/30, Loss: 0.3953\n",
      "Epoch 2/30, Loss: 0.3629\n",
      "Epoch 3/30, Loss: 0.3560\n",
      "Epoch 4/30, Loss: 0.3524\n",
      "Epoch 5/30, Loss: 0.3498\n",
      "Epoch 6/30, Loss: 0.3479\n",
      "Epoch 7/30, Loss: 0.3465\n",
      "Epoch 8/30, Loss: 0.3454\n",
      "Epoch 9/30, Loss: 0.3445\n",
      "Epoch 10/30, Loss: 0.3437\n",
      "Epoch 11/30, Loss: 0.3429\n",
      "Epoch 12/30, Loss: 0.3423\n",
      "Epoch 13/30, Loss: 0.3416\n",
      "Epoch 14/30, Loss: 0.3411\n",
      "Epoch 15/30, Loss: 0.3408\n",
      "Epoch 16/30, Loss: 0.3402\n",
      "Epoch 17/30, Loss: 0.3399\n",
      "Epoch 18/30, Loss: 0.3395\n",
      "Epoch 19/30, Loss: 0.3392\n",
      "Epoch 20/30, Loss: 0.3389\n",
      "Epoch 21/30, Loss: 0.3386\n",
      "Epoch 22/30, Loss: 0.3383\n",
      "Epoch 23/30, Loss: 0.3380\n",
      "Epoch 24/30, Loss: 0.3377\n",
      "Epoch 25/30, Loss: 0.3376\n",
      "Epoch 26/30, Loss: 0.3374\n",
      "Epoch 27/30, Loss: 0.3371\n",
      "Epoch 28/30, Loss: 0.3370\n",
      "Epoch 29/30, Loss: 0.3367\n",
      "Epoch 30/30, Loss: 0.3365\n"
     ]
    }
   ],
   "source": [
    "# --- Step 5: 訓練 Autoencoder ---\n",
    "epochs = 30\n",
    "for epoch in range(epochs):\n",
    "    total_loss = 0\n",
    "    for batch, _ in dataloader:\n",
    "        batch = batch.to(device)\n",
    "        optimizer.zero_grad()\n",
    "        recon, latent = model(batch)\n",
    "        loss = loss_fn(recon, batch)\n",
    "        loss.backward()\n",
    "        optimizer.step()\n",
    "        total_loss += loss.item()\n",
    "    print(f\"Epoch {epoch+1}/{epochs}, Loss: {total_loss/len(dataloader):.4f}\")"
   ]
  },
  {
   "cell_type": "code",
   "execution_count": 7,
   "id": "ecddf199-e2ec-491e-8d66-d40238e401d9",
   "metadata": {},
   "outputs": [
    {
     "name": "stdout",
     "output_type": "stream",
     "text": [
      "Latent shape: (271184, 32)\n"
     ]
    }
   ],
   "source": [
    "# --- Step 6: 生成 latent 向量 ---\n",
    "model.eval()\n",
    "all_latents = []\n",
    "with torch.no_grad():\n",
    "    for batch, _ in dataloader:\n",
    "        batch = batch.to(device)\n",
    "        _, latent = model(batch)\n",
    "        all_latents.append(latent.cpu().numpy())\n",
    "all_latents = np.concatenate(all_latents, axis=0)\n",
    "print(\"Latent shape:\", all_latents.shape)"
   ]
  },
  {
   "cell_type": "code",
   "execution_count": 8,
   "id": "98b27cd1-03af-41c5-bd58-7e05246a28a8",
   "metadata": {},
   "outputs": [
    {
     "name": "stdout",
     "output_type": "stream",
     "text": [
      "符號序列預覽： EDOQPVZTMSUYCCMWCSRPBNPTYIBCBBYYDYHHZPGDSAWKHOCWOYVCSLKBGAROCCSFGBZPHBVQCIHDRBVHPYYFVPZJFGGHBTAQNDCNNPCBYYBCYBRLVVADQCEDYKGNRYBQCLBMSSHQRIFSPZAAPVTPHWRFZWARABBRENLAWNLRKGDLZGSCHAZFVHRVMTFDZCTRNXYFDBIS\n"
     ]
    }
   ],
   "source": [
    "# --- Step 7: KMeans 聚類成符號 ---\n",
    "num_symbols = 26  # 對應 A-Z\n",
    "kmeans = KMeans(n_clusters=num_symbols, random_state=42, n_init=10)\n",
    "labels = kmeans.fit_predict(all_latents)\n",
    "symbols = [chr(65 + l) for l in labels]  # A-Z\n",
    "sequence = \"\".join(symbols)\n",
    "print(\"符號序列預覽：\", sequence[:200])"
   ]
  },
  {
   "cell_type": "code",
   "execution_count": 9,
   "id": "87666c3d-3e24-443a-9342-9876b6fb5ceb",
   "metadata": {},
   "outputs": [
    {
     "name": "stdout",
     "output_type": "stream",
     "text": [
      "✅ 已儲存符號序列： symbol_sequences.json\n"
     ]
    }
   ],
   "source": [
    "# --- Step 8: 儲存為 JSON ---\n",
    "output_path = \"symbol_sequences07.json\"\n",
    "with open(output_path, \"w\") as f:\n",
    "    json.dump({\"symbols\": sequence}, f)\n",
    "print(\"✅ 已儲存符號序列：\", output_path)"
   ]
  },
  {
   "cell_type": "code",
   "execution_count": null,
   "id": "0d36315a-6ee7-45d7-a237-2a7105fb0a3c",
   "metadata": {},
   "outputs": [],
   "source": []
  }
 ],
 "metadata": {
  "kernelspec": {
   "display_name": "Python 3 (ipykernel)",
   "language": "python",
   "name": "python3"
  },
  "language_info": {
   "codemirror_mode": {
    "name": "ipython",
    "version": 3
   },
   "file_extension": ".py",
   "mimetype": "text/x-python",
   "name": "python",
   "nbconvert_exporter": "python",
   "pygments_lexer": "ipython3",
   "version": "3.10.13"
  }
 },
 "nbformat": 4,
 "nbformat_minor": 5
}
