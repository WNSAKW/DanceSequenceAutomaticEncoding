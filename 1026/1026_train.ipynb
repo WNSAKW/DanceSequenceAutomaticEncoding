{
 "cells": [
  {
   "cell_type": "code",
   "execution_count": 1,
   "id": "b6ead0ba-815b-4738-9ebb-36c2b02ceebc",
   "metadata": {},
   "outputs": [],
   "source": [
    "import os\n",
    "import pandas as pd\n",
    "import numpy as np\n",
    "import torch\n",
    "import torch.nn as nn\n",
    "from torch.utils.data import Dataset, DataLoader\n",
    "from sklearn.preprocessing import StandardScaler"
   ]
  },
  {
   "cell_type": "code",
   "execution_count": 2,
   "id": "7d79dac6-967f-4db6-9f10-71ca28bc7ff3",
   "metadata": {},
   "outputs": [],
   "source": [
    "# =========================================================\n",
    "# step1. Data pre-processing\n",
    "# =========================================================\n",
    "folder_path = \"./ballet_train/\"  # 放骨架 csv 的資料夾\n",
    "all_poses = []"
   ]
  },
  {
   "cell_type": "code",
   "execution_count": 3,
   "id": "c6de3ad7-618e-4f87-929c-c73b160623bc",
   "metadata": {},
   "outputs": [],
   "source": [
    "def parse_point(s):\n",
    "    \"\"\"把 ('x','y','z') 字串轉成 float list\"\"\"\n",
    "    s = s.strip(\"()\")\n",
    "    parts = [float(p.strip(\" '\")) for p in s.split(\",\")]\n",
    "    return parts\n",
    "\n",
    "def csv_to_pose_array(csv_path):\n",
    "    \"\"\"讀取一個 CSV 檔，轉成骨架矩陣 (N_frames, 99)\"\"\"\n",
    "    df = pd.read_csv(csv_path)\n",
    "    pose_cols = [c for c in df.columns if c != \"frame\"]\n",
    "    poses = []\n",
    "    for i, row in df.iterrows():\n",
    "        pose = []\n",
    "        for c in pose_cols:\n",
    "            pose += parse_point(row[c])\n",
    "        poses.append(pose)\n",
    "    return np.array(poses)"
   ]
  },
  {
   "cell_type": "code",
   "execution_count": 4,
   "id": "2e64e5ed-603e-4ab9-a749-f399460549b9",
   "metadata": {},
   "outputs": [
    {
     "name": "stdout",
     "output_type": "stream",
     "text": [
      "📂 開始讀取資料夾內所有 csv 檔...\n"
     ]
    }
   ],
   "source": [
    "print(\"📂 開始讀取資料夾內所有 csv 檔...\")\n",
    "for file_name in os.listdir(folder_path):\n",
    "    if file_name.endswith(\".csv\"):\n",
    "        file_path = os.path.join(folder_path, file_name)\n",
    "        poses = csv_to_pose_array(file_path)\n",
    "        all_poses.append(poses)"
   ]
  },
  {
   "cell_type": "code",
   "execution_count": 5,
   "id": "0add2612-3cc8-4a9e-9568-5a3f8c60803b",
   "metadata": {},
   "outputs": [
    {
     "name": "stdout",
     "output_type": "stream",
     "text": [
      "✅ 讀取完成，資料形狀： (12641, 99)\n"
     ]
    }
   ],
   "source": [
    "# 合併所有檔案\n",
    "all_poses = np.concatenate(all_poses, axis=0)\n",
    "print(\"✅ 讀取完成，資料形狀：\", all_poses.shape)  # (總幀數, 99)"
   ]
  },
  {
   "cell_type": "code",
   "execution_count": 6,
   "id": "6323447b-04fb-46c4-a8c2-55ee9c2f80ea",
   "metadata": {},
   "outputs": [],
   "source": [
    "# 標準化\n",
    "scaler = StandardScaler()\n",
    "all_poses = scaler.fit_transform(all_poses)"
   ]
  },
  {
   "cell_type": "code",
   "execution_count": 7,
   "id": "178cc692-28cb-483f-a8ec-f180f8bd06fc",
   "metadata": {},
   "outputs": [],
   "source": [
    "# =========================================================\n",
    "# step2. Create Dataset and DataLoader\n",
    "# =========================================================\n",
    "class PoseDataset(Dataset):\n",
    "    def __init__(self, data):\n",
    "        self.data = torch.tensor(data, dtype=torch.float32)\n",
    "    def __len__(self):\n",
    "        return len(self.data)\n",
    "    def __getitem__(self, idx):\n",
    "        return self.data[idx]\n",
    "\n",
    "dataset = PoseDataset(all_poses)\n",
    "dataloader = DataLoader(dataset, batch_size=128, shuffle=True)"
   ]
  },
  {
   "cell_type": "code",
   "execution_count": 8,
   "id": "5849ab0f-28d7-4831-9068-cb217159d1c4",
   "metadata": {},
   "outputs": [],
   "source": [
    "# =========================================================\n",
    "# step3. Defining the VQ-VAE model\n",
    "# =========================================================\n",
    "class VectorQuantizer(nn.Module):\n",
    "    def __init__(self, num_embeddings, embedding_dim):\n",
    "        super().__init__()\n",
    "        self.embedding_dim = embedding_dim\n",
    "        self.num_embeddings = num_embeddings\n",
    "        self.embedding = nn.Embedding(num_embeddings, embedding_dim)\n",
    "        self.embedding.weight.data.uniform_(-1/num_embeddings, 1/num_embeddings)\n",
    "\n",
    "    def forward(self, x):\n",
    "        # x: (batch, latent_dim)\n",
    "        distances = (\n",
    "            torch.sum(x**2, dim=1, keepdim=True)\n",
    "            + torch.sum(self.embedding.weight**2, dim=1)\n",
    "            - 2 * torch.matmul(x, self.embedding.weight.t())\n",
    "        )\n",
    "        encoding_indices = torch.argmin(distances, dim=1)\n",
    "        quantized = self.embedding(encoding_indices)\n",
    "        return quantized, encoding_indices"
   ]
  },
  {
   "cell_type": "code",
   "execution_count": 9,
   "id": "dac25ade-103a-4cff-b3d8-b51be07ecfb9",
   "metadata": {},
   "outputs": [],
   "source": [
    "class VQVAE(nn.Module):\n",
    "    def __init__(self, input_dim=99, hidden_dim=128, latent_dim=32, num_embeddings=64):\n",
    "        super().__init__()\n",
    "        self.encoder = nn.Sequential(\n",
    "            nn.Linear(input_dim, hidden_dim),\n",
    "            nn.ReLU(),\n",
    "            nn.Linear(hidden_dim, latent_dim)\n",
    "        )\n",
    "        self.vq = VectorQuantizer(num_embeddings, latent_dim)\n",
    "        self.decoder = nn.Sequential(\n",
    "            nn.Linear(latent_dim, hidden_dim),\n",
    "            nn.ReLU(),\n",
    "            nn.Linear(hidden_dim, input_dim)\n",
    "        )\n",
    "\n",
    "    def forward(self, x):\n",
    "        z = self.encoder(x)\n",
    "        z_q, indices = self.vq(z)\n",
    "        x_recon = self.decoder(z_q)\n",
    "        return x_recon, indices, z, z_q"
   ]
  },
  {
   "cell_type": "code",
   "execution_count": 10,
   "id": "73335529-85b3-48fe-8837-b6e916551b6f",
   "metadata": {},
   "outputs": [
    {
     "name": "stdout",
     "output_type": "stream",
     "text": [
      "🚀 開始訓練 VQ-VAE 模型...\n"
     ]
    }
   ],
   "source": [
    "# =========================================================\n",
    "# step4. Training the model\n",
    "# =========================================================\n",
    "device = \"cuda\" if torch.cuda.is_available() else \"cpu\"\n",
    "model = VQVAE().to(device)\n",
    "optimizer = torch.optim.Adam(model.parameters(), lr=1e-3)\n",
    "loss_fn = nn.MSELoss()\n",
    "\n",
    "EPOCHS = 20\n",
    "print(\"🚀 開始訓練 VQ-VAE 模型...\")"
   ]
  },
  {
   "cell_type": "code",
   "execution_count": 11,
   "id": "0a94cd18-6fc9-4294-b7c9-5d2f2818163c",
   "metadata": {},
   "outputs": [
    {
     "name": "stdout",
     "output_type": "stream",
     "text": [
      "Epoch 1/20, Loss: 1.005913\n",
      "Epoch 2/20, Loss: 0.900204\n",
      "Epoch 3/20, Loss: 0.764241\n",
      "Epoch 4/20, Loss: 0.758410\n",
      "Epoch 5/20, Loss: 0.774953\n",
      "Epoch 6/20, Loss: 0.789111\n",
      "Epoch 7/20, Loss: 0.797114\n",
      "Epoch 8/20, Loss: 0.797204\n",
      "Epoch 9/20, Loss: 0.798800\n",
      "Epoch 10/20, Loss: 0.798049\n",
      "Epoch 11/20, Loss: 0.802491\n",
      "Epoch 12/20, Loss: 0.810797\n",
      "Epoch 13/20, Loss: 0.811931\n",
      "Epoch 14/20, Loss: 0.813884\n",
      "Epoch 15/20, Loss: 0.814514\n",
      "Epoch 16/20, Loss: 0.813715\n",
      "Epoch 17/20, Loss: 0.812585\n",
      "Epoch 18/20, Loss: 0.814700\n",
      "Epoch 19/20, Loss: 0.816158\n",
      "Epoch 20/20, Loss: 0.819582\n",
      "✅ 訓練完成！\n"
     ]
    }
   ],
   "source": [
    "for epoch in range(EPOCHS):\n",
    "    total_loss = 0\n",
    "    for batch in dataloader:\n",
    "        batch = batch.to(device)\n",
    "        optimizer.zero_grad()\n",
    "\n",
    "        x_recon, indices, z, z_q = model(batch)\n",
    "        recon_loss = loss_fn(x_recon, batch)\n",
    "        vq_loss = torch.mean((z_q.detach() - z)**2) + 0.25 * torch.mean((z_q - z.detach())**2)\n",
    "        loss = recon_loss + vq_loss\n",
    "\n",
    "        loss.backward()\n",
    "        optimizer.step()\n",
    "        total_loss += loss.item()\n",
    "\n",
    "    avg_loss = total_loss / len(dataloader)\n",
    "    print(f\"Epoch {epoch+1}/{EPOCHS}, Loss: {avg_loss:.6f}\")\n",
    "\n",
    "print(\"✅ 訓練完成！\")"
   ]
  },
  {
   "cell_type": "code",
   "execution_count": 12,
   "id": "2e0f1076-2bfd-4c61-96de-c39d1ddeba48",
   "metadata": {},
   "outputs": [
    {
     "name": "stdout",
     "output_type": "stream",
     "text": [
      "💾 模型已儲存至：vqvae_ballet.pth\n"
     ]
    }
   ],
   "source": [
    "# =========================================================\n",
    "# step5. Storing model weights\n",
    "# =========================================================\n",
    "save_path = \"vqvae_ballet.pth\"\n",
    "torch.save(model.state_dict(), save_path)\n",
    "print(f\"💾 模型已儲存至：{save_path}\")"
   ]
  },
  {
   "cell_type": "code",
   "execution_count": null,
   "id": "64de0e2e-e9fe-4262-8f4e-2757f0981477",
   "metadata": {},
   "outputs": [],
   "source": []
  }
 ],
 "metadata": {
  "kernelspec": {
   "display_name": "Python 3 (ipykernel)",
   "language": "python",
   "name": "python3"
  },
  "language_info": {
   "codemirror_mode": {
    "name": "ipython",
    "version": 3
   },
   "file_extension": ".py",
   "mimetype": "text/x-python",
   "name": "python",
   "nbconvert_exporter": "python",
   "pygments_lexer": "ipython3",
   "version": "3.10.19"
  }
 },
 "nbformat": 4,
 "nbformat_minor": 5
}
